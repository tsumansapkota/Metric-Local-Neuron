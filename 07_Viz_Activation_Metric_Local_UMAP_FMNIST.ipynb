{
 "cells": [
  {
   "cell_type": "code",
   "execution_count": null,
   "id": "5ffe92d9",
   "metadata": {},
   "outputs": [],
   "source": [
    "import umap"
   ]
  },
  {
   "cell_type": "code",
   "execution_count": null,
   "id": "c146e286",
   "metadata": {},
   "outputs": [],
   "source": [
    "import numpy as np\n",
    "import matplotlib.pyplot as plt\n",
    "import matplotlib\n",
    "%matplotlib inline\n",
    "# from mpl_toolkits.mplot3d import Axes3D\n",
    "\n",
    "import torch\n",
    "import torch.nn as nn\n",
    "import torch.nn.functional as F\n",
    "import torch.optim as optim\n",
    "from torch.utils import data\n",
    "from torchvision import datasets, transforms as T\n",
    "\n",
    "import random, os, pathlib, time\n",
    "from tqdm import tqdm\n",
    "# from sklearn import datasets"
   ]
  },
  {
   "cell_type": "code",
   "execution_count": null,
   "id": "c96139b7",
   "metadata": {},
   "outputs": [],
   "source": [
    "# device = torch.device(\"cuda:0\")\n",
    "device = torch.device(\"cpu\")"
   ]
  },
  {
   "cell_type": "code",
   "execution_count": null,
   "id": "1025a9d6",
   "metadata": {},
   "outputs": [],
   "source": [
    "from tqdm import tqdm\n",
    "import os, time, sys\n",
    "import json"
   ]
  },
  {
   "cell_type": "code",
   "execution_count": null,
   "id": "656ef5ec",
   "metadata": {},
   "outputs": [],
   "source": [
    "import dtnnlib as dtnn"
   ]
  },
  {
   "cell_type": "code",
   "execution_count": null,
   "id": "165fe165",
   "metadata": {},
   "outputs": [],
   "source": [
    "mnist_transform = T.Compose([\n",
    "    T.ToTensor(),\n",
    "#     T.Normalize(\n",
    "#         mean=[0.5,],\n",
    "#         std=[0.5,],\n",
    "#     ),\n",
    "])\n",
    "\n",
    "train_dataset = datasets.FashionMNIST(root=\"./data\", train=True, download=True, transform=mnist_transform)\n",
    "test_dataset = datasets.FashionMNIST(root=\"./data\", train=False, download=True, transform=mnist_transform)"
   ]
  },
  {
   "cell_type": "code",
   "execution_count": null,
   "id": "4bba19a5",
   "metadata": {},
   "outputs": [],
   "source": [
    "batch_size = 50\n",
    "train_loader = data.DataLoader(dataset=train_dataset, num_workers=4, batch_size=batch_size, shuffle=True)\n",
    "test_loader = data.DataLoader(dataset=test_dataset, num_workers=4, batch_size=batch_size, shuffle=False)"
   ]
  },
  {
   "cell_type": "code",
   "execution_count": null,
   "id": "c87ef0dd",
   "metadata": {},
   "outputs": [],
   "source": [
    "for xx, yy in train_loader:\n",
    "    xx, yy = xx.to(device), yy.to(device)\n",
    "    print(xx.shape, yy.shape)\n",
    "    break"
   ]
  },
  {
   "cell_type": "code",
   "execution_count": null,
   "id": "5b2f9961",
   "metadata": {},
   "outputs": [],
   "source": [
    "xx.min(), xx.max()"
   ]
  },
  {
   "cell_type": "code",
   "execution_count": null,
   "id": "0f99b7ed",
   "metadata": {},
   "outputs": [],
   "source": [
    "train_dataset.data.shape, train_dataset.targets.shape"
   ]
  },
  {
   "cell_type": "code",
   "execution_count": null,
   "id": "724202e0",
   "metadata": {},
   "outputs": [],
   "source": []
  },
  {
   "cell_type": "code",
   "execution_count": null,
   "id": "fe858b6a",
   "metadata": {},
   "outputs": [],
   "source": [
    "embed = umap.UMAP(n_neighbors=50, n_components=2, min_dist=0.1, spread=1)"
   ]
  },
  {
   "cell_type": "code",
   "execution_count": null,
   "id": "c27e0e07",
   "metadata": {},
   "outputs": [],
   "source": [
    "selected_points = test_dataset.data.reshape(-1, 28*28).type(torch.float32)/255\n",
    "embedding = embed.fit_transform(selected_points)"
   ]
  },
  {
   "cell_type": "code",
   "execution_count": null,
   "id": "d1077c27",
   "metadata": {},
   "outputs": [],
   "source": [
    "for xx, yy in train_loader:\n",
    "    xx = xx.reshape(-1, 28*28)\n",
    "    print(xx.shape, yy.shape)\n",
    "    break"
   ]
  },
  {
   "cell_type": "code",
   "execution_count": null,
   "id": "6377c31f",
   "metadata": {},
   "outputs": [],
   "source": [
    "xx.max()"
   ]
  },
  {
   "cell_type": "code",
   "execution_count": null,
   "id": "8d01f2ef",
   "metadata": {},
   "outputs": [],
   "source": [
    "xtransf = embed.transform(xx.numpy().reshape(-1, 28*28))"
   ]
  },
  {
   "cell_type": "code",
   "execution_count": null,
   "id": "07f9c2f2",
   "metadata": {},
   "outputs": [],
   "source": [
    "xx.max()"
   ]
  },
  {
   "cell_type": "code",
   "execution_count": null,
   "id": "45027adc",
   "metadata": {},
   "outputs": [],
   "source": [
    "def get_sigma(dists, k=50, epoch=700, lr=0.03):\n",
    "    dists = torch.topk(dists, k=k,dim=1)[0]\n",
    "    sigma = nn.Parameter(torch.std(dists.data, dim=1, keepdim=True)*0.2)\n",
    "    optim = torch.optim.Adam([sigma], lr=lr)\n",
    "    target = torch.log2(torch.ones_like(sigma)*k).to(dists.device)\n",
    "    for i in range(epoch):\n",
    "        delta = torch.sum(torch.exp(-dists/sigma), dim=1, keepdim=True)\n",
    "        delta = delta-target\n",
    "\n",
    "        optim.zero_grad()\n",
    "        error = (delta**2).sum()\n",
    "        error.backward()\n",
    "        optim.step()\n",
    "    return sigma.data"
   ]
  },
  {
   "cell_type": "code",
   "execution_count": null,
   "id": "952ad78c",
   "metadata": {},
   "outputs": [],
   "source": [
    "# sigma = get_sigma(dists)"
   ]
  },
  {
   "cell_type": "code",
   "execution_count": null,
   "id": "9cfaa9fe",
   "metadata": {},
   "outputs": [],
   "source": [
    "!mkdir outputs/07_visualize_actv_umap"
   ]
  },
  {
   "cell_type": "markdown",
   "id": "138116b9",
   "metadata": {},
   "source": [
    "## Get scale to top-k points"
   ]
  },
  {
   "cell_type": "code",
   "execution_count": null,
   "id": "96b577c0",
   "metadata": {},
   "outputs": [],
   "source": [
    "transform = dtnn.DistanceTransformBase(28*28, len(test_dataset))\n",
    "transform.centers.data = selected_points"
   ]
  },
  {
   "cell_type": "code",
   "execution_count": null,
   "id": "8eee4a81",
   "metadata": {},
   "outputs": [],
   "source": [
    "with torch.no_grad():\n",
    "    dists = transform(xx)"
   ]
  },
  {
   "cell_type": "code",
   "execution_count": null,
   "id": "9f8604fb",
   "metadata": {},
   "outputs": [],
   "source": [
    "dists = dists-dists.min(dim=1, keepdim=True)[0]\n",
    "# dists = torch.topk(dists, k=50,dim=1)[0]\n",
    "sigma = get_sigma(dists, k=10000)\n",
    "topk_dists = torch.exp(-dists/sigma)"
   ]
  },
  {
   "cell_type": "code",
   "execution_count": null,
   "id": "67790e50",
   "metadata": {},
   "outputs": [],
   "source": [
    "topk_dists.shape"
   ]
  },
  {
   "cell_type": "code",
   "execution_count": null,
   "id": "042f375a",
   "metadata": {},
   "outputs": [],
   "source": [
    "topk_dists.max(), topk_dists.min()"
   ]
  },
  {
   "cell_type": "code",
   "execution_count": null,
   "id": "40384a00",
   "metadata": {},
   "outputs": [],
   "source": [
    "i = -1"
   ]
  },
  {
   "cell_type": "code",
   "execution_count": null,
   "id": "18480049",
   "metadata": {},
   "outputs": [],
   "source": [
    "i += 1\n",
    "activ = topk_dists[i].data.cpu().numpy()\n",
    "\n",
    "print(f\"index:{i}/{len(dists)}\")\n",
    "fig = plt.figure(figsize=(10,8))\n",
    "\n",
    "plt.scatter(embedding[:,0], embedding[:, 1], c=test_dataset.targets, s=np.maximum(activ*80, 0.001), cmap=\"tab10\")\n",
    "\n",
    "plt.tick_params(left = False, right = False , labelleft = False ,\n",
    "                labelbottom = False, bottom = False)\n",
    "\n",
    "cbar = plt.colorbar(ticks=range(10), #label='classes', \n",
    "                    boundaries=np.arange(11)-0.5)\n",
    "cbar.set_ticks(np.arange(10))\n",
    "cbar.set_ticklabels(list(range(10)))\n",
    "\n",
    "ins = plt.gca().inset_axes([0.4,0.75,0.2,0.2]) ## coordinate according to embeddings\n",
    "ins.imshow(xx[i].numpy().reshape(28, 28), cmap='gray_r')\n",
    "ins.tick_params(left = False, right = False , labelleft = False ,\n",
    "                labelbottom = False, bottom = False)\n",
    "\n",
    "plt.scatter(xtransf[i,0], xtransf[i,1], marker='x', color='k', s=100)\n",
    "\n",
    "plt.text(.84, .97, f'T={int(yy[i])}', ha='left', va='top', transform=fig.axes[0].transAxes, fontsize=\"large\")\n",
    "plt.savefig(f\"./outputs/07_visualize_actv_umap/umap_scaled_actf_distance_i{i}.pdf\", bbox_inches='tight')\n",
    "plt.show()"
   ]
  },
  {
   "cell_type": "markdown",
   "id": "3b4f1fea",
   "metadata": {},
   "source": [
    "### Visualize for Distance based Umap - but Dot product activation"
   ]
  },
  {
   "cell_type": "code",
   "execution_count": null,
   "id": "e2cfaa5d",
   "metadata": {},
   "outputs": [],
   "source": [
    "transform2 = nn.Linear(28*28, len(test_dataset))\n",
    "transform2.weight.data = selected_points"
   ]
  },
  {
   "cell_type": "code",
   "execution_count": null,
   "id": "3f698a64",
   "metadata": {},
   "outputs": [],
   "source": [
    "with torch.no_grad():\n",
    "    dists = -transform2(xx)"
   ]
  },
  {
   "cell_type": "code",
   "execution_count": null,
   "id": "c28b2a0a",
   "metadata": {},
   "outputs": [],
   "source": [
    "dists = dists-dists.min(dim=1, keepdim=True)[0]\n",
    "# dists = torch.topk(dists, k=50,dim=1)[0]\n",
    "sigma = get_sigma(dists, k=10000)\n",
    "topk_dists = torch.exp(-dists/sigma)"
   ]
  },
  {
   "cell_type": "code",
   "execution_count": null,
   "id": "79121f2f",
   "metadata": {},
   "outputs": [],
   "source": [
    "topk_dists.max(), topk_dists.min()"
   ]
  },
  {
   "cell_type": "code",
   "execution_count": null,
   "id": "ca9bbf28",
   "metadata": {},
   "outputs": [],
   "source": [
    "i = -1"
   ]
  },
  {
   "cell_type": "code",
   "execution_count": null,
   "id": "426dc8ff",
   "metadata": {},
   "outputs": [],
   "source": [
    "i += 1\n",
    "activ = topk_dists[i].data.cpu().numpy()\n",
    "\n",
    "print(f\"index:{i}/{len(dists)}\")\n",
    "fig = plt.figure(figsize=(10,8))\n",
    "\n",
    "plt.scatter(embedding[:,0], embedding[:, 1], c=test_dataset.targets, s=np.maximum(activ*80, 0.001), cmap=\"tab10\")\n",
    "\n",
    "plt.tick_params(left = False, right = False , labelleft = False ,\n",
    "                labelbottom = False, bottom = False)\n",
    "\n",
    "cbar = plt.colorbar(ticks=range(10), #label='classes', \n",
    "                    boundaries=np.arange(11)-0.5)\n",
    "cbar.set_ticks(np.arange(10))\n",
    "cbar.set_ticklabels(list(range(10)))\n",
    "\n",
    "ins = plt.gca().inset_axes([0.4,0.75,0.2,0.2])\n",
    "ins.imshow(xx[i].numpy().reshape(28, 28), cmap='gray_r')\n",
    "ins.tick_params(left = False, right = False , labelleft = False ,\n",
    "                labelbottom = False, bottom = False)\n",
    "\n",
    "plt.scatter(xtransf[i,0], xtransf[i,1], marker='x', color='k', s=100)\n",
    "\n",
    "plt.text(.84, .97, f'T={int(yy[i])}', ha='left', va='top', transform=fig.axes[0].transAxes, fontsize=\"large\")\n",
    "plt.savefig(f\"./outputs/07_visualize_actv_umap/umap_scaled_actf_linear_i{i}.pdf\", bbox_inches='tight')\n",
    "plt.show()\n"
   ]
  },
  {
   "cell_type": "markdown",
   "id": "d22bfb35",
   "metadata": {},
   "source": [
    "### Visualize for Distance based Umap - and Cosine angle activation"
   ]
  },
  {
   "cell_type": "code",
   "execution_count": null,
   "id": "007b869e",
   "metadata": {},
   "outputs": [],
   "source": [
    "transform3 = nn.Linear(28*28, len(test_dataset))\n",
    "transform3.weight.data = selected_points/torch.norm(selected_points, dim=1, keepdim=True)"
   ]
  },
  {
   "cell_type": "code",
   "execution_count": null,
   "id": "44d094dd",
   "metadata": {},
   "outputs": [],
   "source": [
    "with torch.no_grad():\n",
    "    xx_ = xx/torch.norm(xx, dim=1, keepdim=True)\n",
    "    dists = -transform3(xx_)"
   ]
  },
  {
   "cell_type": "code",
   "execution_count": null,
   "id": "665527d6",
   "metadata": {},
   "outputs": [],
   "source": [
    "dists = dists-dists.min(dim=1, keepdim=True)[0]\n",
    "sigma = get_sigma(dists, k=10000, lr=0.002)\n",
    "topk_dists = torch.exp(-dists/sigma)"
   ]
  },
  {
   "cell_type": "code",
   "execution_count": null,
   "id": "cc29f458",
   "metadata": {},
   "outputs": [],
   "source": [
    "topk_dists.max(), topk_dists.min()"
   ]
  },
  {
   "cell_type": "code",
   "execution_count": null,
   "id": "8330e273",
   "metadata": {},
   "outputs": [],
   "source": [
    "i = -1"
   ]
  },
  {
   "cell_type": "code",
   "execution_count": null,
   "id": "d30d37fd",
   "metadata": {},
   "outputs": [],
   "source": [
    "i += 1\n",
    "activ = topk_dists[i].data.cpu().numpy()\n",
    "\n",
    "print(f\"index:{i}/{len(dists)}\")\n",
    "fig = plt.figure(figsize=(10,8))\n",
    "\n",
    "plt.scatter(embedding[:,0], embedding[:, 1], c=test_dataset.targets, s=np.maximum(activ*80, 0.001), cmap=\"tab10\")\n",
    "\n",
    "plt.tick_params(left = False, right = False , labelleft = False ,\n",
    "                labelbottom = False, bottom = False)\n",
    "\n",
    "cbar = plt.colorbar(ticks=range(10), #label='classes', \n",
    "                    boundaries=np.arange(11)-0.5)\n",
    "cbar.set_ticks(np.arange(10))\n",
    "cbar.set_ticklabels(list(range(10)))\n",
    "\n",
    "ins = plt.gca().inset_axes([0.4,0.75,0.2,0.2])\n",
    "ins.imshow(xx[i].numpy().reshape(28, 28), cmap='gray_r')\n",
    "ins.tick_params(left = False, right = False , labelleft = False ,\n",
    "                labelbottom = False, bottom = False)\n",
    "\n",
    "plt.scatter(xtransf[i,0], xtransf[i,1], marker='x', color='k', s=100)\n",
    "\n",
    "plt.text(.84, .97, f'T={int(yy[i])}', ha='left', va='top', transform=fig.axes[0].transAxes, fontsize=\"large\")\n",
    "plt.savefig(f\"./outputs/07_visualize_actv_umap/umap_scaled_actf_angle_i{i}.pdf\", bbox_inches='tight')\n",
    "plt.show()\n"
   ]
  },
  {
   "cell_type": "code",
   "execution_count": null,
   "id": "2923907f",
   "metadata": {},
   "outputs": [],
   "source": []
  },
  {
   "cell_type": "markdown",
   "id": "a33eff85",
   "metadata": {},
   "source": [
    "# Other Vizz"
   ]
  },
  {
   "cell_type": "markdown",
   "id": "44caf604",
   "metadata": {},
   "source": [
    "### Visualize for Cosine based Umap - and Cosine angle activation"
   ]
  },
  {
   "cell_type": "code",
   "execution_count": null,
   "id": "198a69c9",
   "metadata": {},
   "outputs": [],
   "source": [
    "embed2 = umap.UMAP(n_neighbors=50, n_components=2, min_dist=0.1, spread=1, metric='cosine')"
   ]
  },
  {
   "cell_type": "code",
   "execution_count": null,
   "id": "301f531d",
   "metadata": {},
   "outputs": [],
   "source": [
    "embedding2 = embed2.fit_transform(selected_points)"
   ]
  },
  {
   "cell_type": "code",
   "execution_count": null,
   "id": "6a013ae6",
   "metadata": {},
   "outputs": [],
   "source": [
    "xtransf2 = embed2.transform(xx.numpy().reshape(-1, 28*28))"
   ]
  },
  {
   "cell_type": "code",
   "execution_count": null,
   "id": "8abdfbac",
   "metadata": {},
   "outputs": [],
   "source": [
    "transform3 = nn.Linear(28*28, len(test_dataset))\n",
    "transform3.weight.data = selected_points/torch.norm(selected_points, dim=1, keepdim=True)"
   ]
  },
  {
   "cell_type": "code",
   "execution_count": null,
   "id": "08d63607",
   "metadata": {},
   "outputs": [],
   "source": [
    "selected_points.shape"
   ]
  },
  {
   "cell_type": "code",
   "execution_count": null,
   "id": "82494984",
   "metadata": {},
   "outputs": [],
   "source": [
    "i = -1"
   ]
  },
  {
   "cell_type": "code",
   "execution_count": null,
   "id": "9f08771c",
   "metadata": {},
   "outputs": [],
   "source": [
    "i += 1\n",
    "with torch.no_grad():\n",
    "    xx_ = xx[i:i+1]\n",
    "    xx_ /= torch.norm(xx_, dim=1, keepdim=True)\n",
    "    dists = -transform3(xx_)\n",
    "dists.shape\n",
    "print(yy[i])"
   ]
  },
  {
   "cell_type": "code",
   "execution_count": null,
   "id": "b4fba585",
   "metadata": {},
   "outputs": [],
   "source": [
    "dists = dists-dists.min(dim=1, keepdim=True)[0]\n",
    "sigma = get_sigma(dists, k=10000, lr=0.002)\n",
    "topk_dists = torch.exp(-dists/sigma)"
   ]
  },
  {
   "cell_type": "code",
   "execution_count": null,
   "id": "488504d9",
   "metadata": {},
   "outputs": [],
   "source": [
    "topk_dists.max(), topk_dists.min()"
   ]
  },
  {
   "cell_type": "code",
   "execution_count": null,
   "id": "ddd876f4",
   "metadata": {},
   "outputs": [],
   "source": [
    "activ = topk_dists.data.cpu().numpy()[0]\n",
    "\n",
    "print(f\"index:{i}/{len(dists)}\")\n",
    "fig = plt.figure(figsize=(10,8))\n",
    "\n",
    "plt.scatter(embedding[:,0], embedding[:, 1], c=test_dataset.targets, s=np.maximum(activ*80, 0.001), cmap=\"tab10\")\n",
    "\n",
    "plt.tick_params(left = False, right = False , labelleft = False ,\n",
    "                labelbottom = False, bottom = False)\n",
    "\n",
    "cbar = plt.colorbar(ticks=range(10), #label='classes', \n",
    "                    boundaries=np.arange(11)-0.5)\n",
    "cbar.set_ticks(np.arange(10))\n",
    "cbar.set_ticklabels(list(range(10)))\n",
    "\n",
    "ins = plt.gca().inset_axes([0.6,0.75,0.2,0.2])\n",
    "ins.imshow(xx[i].numpy().reshape(28, 28), cmap='gray_r')\n",
    "ins.tick_params(left = False, right = False , labelleft = False ,\n",
    "                labelbottom = False, bottom = False)\n",
    "\n",
    "plt.scatter(xtransf[i,0], xtransf[i,1], marker='x', color='k', s=100)\n",
    "\n",
    "plt.text(.84, .97, f'T={int(yy[i])}', ha='left', va='top', transform=fig.axes[0].transAxes, fontsize=\"large\")\n",
    "\n",
    "plt.show()\n"
   ]
  },
  {
   "cell_type": "code",
   "execution_count": null,
   "id": "4c0cb877",
   "metadata": {},
   "outputs": [],
   "source": [
    "activ = topk_dists.data.cpu().numpy()[0]\n",
    "\n",
    "print(f\"index:{i}/{len(dists)}\")\n",
    "fig = plt.figure(figsize=(10,8))\n",
    "\n",
    "plt.scatter(embedding2[:,0], embedding2[:, 1], c=test_dataset.targets, s=np.maximum(activ*80, 0.001), cmap=\"tab10\")\n",
    "\n",
    "plt.tick_params(left = False, right = False , labelleft = False ,\n",
    "                labelbottom = False, bottom = False)\n",
    "\n",
    "cbar = plt.colorbar(ticks=range(10), #label='classes', \n",
    "                    boundaries=np.arange(11)-0.5)\n",
    "cbar.set_ticks(np.arange(10))\n",
    "cbar.set_ticklabels(list(range(10)))\n",
    "\n",
    "ins = plt.gca().inset_axes([0.6,0.75,0.2,0.2])\n",
    "ins.imshow(xx[i].numpy().reshape(28, 28), cmap='gray_r')\n",
    "ins.tick_params(left = False, right = False , labelleft = False ,\n",
    "                labelbottom = False, bottom = False)\n",
    "\n",
    "plt.scatter(xtransf2[i,0], xtransf2[i,1], marker='x', color='k', s=100)\n",
    "\n",
    "plt.text(.84, .97, f'T={int(yy[i])}', ha='left', va='top', transform=fig.axes[0].transAxes, fontsize=\"large\")\n",
    "\n",
    "plt.show()\n"
   ]
  },
  {
   "cell_type": "code",
   "execution_count": null,
   "id": "36a76e4a",
   "metadata": {},
   "outputs": [],
   "source": []
  }
 ],
 "metadata": {
  "kernelspec": {
   "display_name": "Python 3 (ipykernel)",
   "language": "python",
   "name": "python3"
  },
  "language_info": {
   "codemirror_mode": {
    "name": "ipython",
    "version": 3
   },
   "file_extension": ".py",
   "mimetype": "text/x-python",
   "name": "python",
   "nbconvert_exporter": "python",
   "pygments_lexer": "ipython3",
   "version": "3.11.9"
  }
 },
 "nbformat": 4,
 "nbformat_minor": 5
}
