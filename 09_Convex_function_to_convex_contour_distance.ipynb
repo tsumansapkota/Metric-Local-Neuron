{
 "cells": [
  {
   "cell_type": "code",
   "execution_count": null,
   "metadata": {},
   "outputs": [],
   "source": [
    "import numpy as np\n",
    "import torch\n",
    "import torch.nn as nn\n",
    "import torch.nn.functional as F"
   ]
  },
  {
   "cell_type": "code",
   "execution_count": null,
   "metadata": {},
   "outputs": [],
   "source": [
    "import matplotlib\n",
    "# matplotlib.use(\"TkAgg\")\n",
    "%matplotlib inline\n",
    "import matplotlib.pyplot as plt"
   ]
  },
  {
   "cell_type": "markdown",
   "metadata": {},
   "source": [
    "## 2D dataset"
   ]
  },
  {
   "cell_type": "code",
   "execution_count": null,
   "metadata": {},
   "outputs": [],
   "source": [
    "num_points = 100\n",
    "X1 = np.linspace(-2.5, 1.9, num_points)\n",
    "X2 = np.linspace(-2.2, 2.1, num_points)\n",
    "X1, X2 = np.meshgrid(X1, X2)\n",
    "Y = np.sin(np.sqrt(X1**2 + X2**2))*2-1. - 0.1*(X1)+0.02*(X2)\n",
    "\n",
    "####Scaling the data to range -1,1\n",
    "X1 = 2*(X1 - X1.min())/(X1.max() - X1.min()) -1\n",
    "X2 = 2*(X2 - X2.min())/(X2.max() - X2.min()) -1\n",
    "Y = 2*(Y - Y.min())/(Y.max() - Y.min()) -1\n",
    "Y = Y/2\n",
    "\n",
    "x1 = X1.reshape(-1)\n",
    "x2 = X2.reshape(-1)\n",
    "\n",
    "xx = torch.Tensor(np.c_[x1, x2])\n",
    "yy = torch.Tensor(Y.reshape(-1,1))\n"
   ]
  },
  {
   "cell_type": "code",
   "execution_count": null,
   "metadata": {},
   "outputs": [],
   "source": [
    "# %matplotlib tk\n",
    "fig = plt.figure()\n",
    "ax = fig.add_subplot(projection = '3d')\n",
    "ax.plot_surface(X1, X2, Y, cmap='plasma')\n",
    "ax.set_xlabel('X1')\n",
    "ax.set_ylabel('X2')\n",
    "ax.set_zlabel('Y')\n",
    "plt.show()"
   ]
  },
  {
   "cell_type": "code",
   "execution_count": null,
   "metadata": {},
   "outputs": [],
   "source": [
    "import sys\n",
    "sys.path.append(\"./Input-Invex-Neural-Network/\")"
   ]
  },
  {
   "cell_type": "code",
   "execution_count": null,
   "metadata": {},
   "outputs": [],
   "source": [
    "from classes import ConvexNN"
   ]
  },
  {
   "cell_type": "code",
   "execution_count": null,
   "metadata": {},
   "outputs": [],
   "source": [
    "EPOCHS = 3000\n",
    "actf = nn.ELU\n",
    "learning_rate = 0.005\n",
    "criterion = nn.MSELoss()"
   ]
  },
  {
   "cell_type": "markdown",
   "metadata": {},
   "source": [
    "# Convex NN"
   ]
  },
  {
   "cell_type": "code",
   "execution_count": null,
   "metadata": {},
   "outputs": [],
   "source": [
    "cvxNet = ConvexNN([2, 10, 10, 1], actf)\n",
    "optimizer = torch.optim.Adam(cvxNet.parameters(), lr=learning_rate)"
   ]
  },
  {
   "cell_type": "code",
   "execution_count": null,
   "metadata": {},
   "outputs": [],
   "source": [
    "%matplotlib inline\n",
    "fig = plt.figure(figsize=(15,6))\n",
    "ax = fig.add_subplot(121, projection='3d')\n",
    "ax2 = fig.add_subplot(122)\n",
    "\n",
    "for epoch in range(EPOCHS):\n",
    "\n",
    "    yout = -cvxNet(xx)    \n",
    "    loss = criterion(yout, yy)\n",
    "    optimizer.zero_grad()\n",
    "    loss.backward()\n",
    "    optimizer.step()\n",
    "\n",
    "    if epoch%100 == 0 or epoch==EPOCHS-1:\n",
    "        print(f'Epoch: {epoch}, Loss:{float(loss)}')\n",
    "        ax.clear()\n",
    "        ax.scatter(X1, X2, yy.data.numpy().reshape(Y.shape), marker= '.')\n",
    "        ax.scatter(X1, X2, yout.data.numpy().reshape(Y.shape), color='r', marker='.')\n",
    "        ax2.clear()\n",
    "        ax2.contourf(X1, X2, yout.data.numpy().reshape(Y.shape), levels=20)\n",
    "\n",
    "        fig.canvas.draw()\n",
    "        plt.pause(0.01)\n",
    "plt.close()"
   ]
  },
  {
   "cell_type": "code",
   "execution_count": null,
   "metadata": {},
   "outputs": [],
   "source": [
    "%matplotlib inline\n",
    "\n",
    "y_ = yout.data.cpu().numpy().reshape(Y.shape)\n",
    "\n",
    "fig = plt.figure(figsize=(8,6))\n",
    "ax = fig.add_subplot(projection = '3d')\n",
    "ax.view_init(49, -71)\n",
    "ax.plot_surface(X1, X2, y_, cmap='plasma', alpha=0.9)\n",
    "ax.set_xlabel('X1')\n",
    "ax.set_ylabel('X2')\n",
    "ax.set_zlabel('Y')\n",
    "# plt.pause(0.1)\n",
    "plt.show()"
   ]
  },
  {
   "cell_type": "code",
   "execution_count": null,
   "metadata": {},
   "outputs": [],
   "source": [
    "cvxNet.eval()"
   ]
  },
  {
   "cell_type": "markdown",
   "metadata": {},
   "source": [
    "## Plotting Contour Plot"
   ]
  },
  {
   "cell_type": "code",
   "execution_count": null,
   "metadata": {},
   "outputs": [],
   "source": [
    "! mkdir outputs/09_convex_distance/"
   ]
  },
  {
   "cell_type": "code",
   "execution_count": null,
   "metadata": {},
   "outputs": [],
   "source": [
    "# LVLs = np.linspace(sim.min(), sim.max(), 20)\n",
    "LVLs = 50\n",
    "\n",
    "y_ = cvxNet(xx).data.cpu().numpy().reshape(Y.shape)\n",
    "\n",
    "plt.figure(figsize=(5,5))\n",
    "plt.contourf(X1, X2, y_, levels=LVLs)\n",
    "cs = plt.contour(X1, X2, y_, levels=LVLs, linestyles=\"None\", colors=\"k\", linewidths=1)\n",
    "plt.clabel(cs, cs.levels[1::2], inline=True, fontsize=8, fmt=\"%1.2f\")\n",
    "minima = xx[y_.argmin()]\n",
    "plt.scatter(*minima.tolist(), s=100, edgecolors=\"red\")\n",
    "\n",
    "# plt.tick_params(left = False, right = False , labelleft = False ,\n",
    "#                 labelbottom = False, bottom = False)\n",
    "# plt.savefig(\"./outputs/04.0_convex_distance/convex_contour_dist.pdf\", bbox_inches='tight')"
   ]
  },
  {
   "cell_type": "code",
   "execution_count": null,
   "metadata": {},
   "outputs": [],
   "source": [
    "min_val = y_.min()\n",
    "min_val"
   ]
  },
  {
   "cell_type": "code",
   "execution_count": null,
   "metadata": {},
   "outputs": [],
   "source": [
    "minima = xx[None, y_.argmin()]\n",
    "minima"
   ]
  },
  {
   "cell_type": "code",
   "execution_count": null,
   "metadata": {},
   "outputs": [],
   "source": [
    "# minima[0, 0] = minima[0, 0] + 0.25\n",
    "# minima[0, 1] = minima[0, 1] - 0.1"
   ]
  },
  {
   "cell_type": "markdown",
   "metadata": {},
   "source": [
    "## Finding Mimima by using gradient descent"
   ]
  },
  {
   "cell_type": "code",
   "execution_count": null,
   "metadata": {},
   "outputs": [],
   "source": [
    "# xmin = torch.randn_like(minima)\n",
    "xmin = minima.clone()\n",
    "xmin = torch.autograd.Variable(xmin, requires_grad=True)\n",
    "xmin"
   ]
  },
  {
   "cell_type": "code",
   "execution_count": null,
   "metadata": {},
   "outputs": [],
   "source": [
    "optim = torch.optim.Adam([xmin], lr=0.001)\n",
    "STEPS = 4000\n",
    "scheduler = torch.optim.lr_scheduler.CosineAnnealingLR(optim, T_max=STEPS)"
   ]
  },
  {
   "cell_type": "markdown",
   "metadata": {},
   "source": [
    "### Training Loop"
   ]
  },
  {
   "cell_type": "code",
   "execution_count": null,
   "metadata": {},
   "outputs": [],
   "source": [
    "for step in range(STEPS):\n",
    "    optimizer.zero_grad() \n",
    "\n",
    "    ymin = cvxNet(xmin)\n",
    "    xgrad = torch.autograd.grad(outputs=ymin, inputs=xmin, grad_outputs=torch.ones_like(ymin), \n",
    "                            only_inputs=True, retain_graph=True, create_graph=True)[0]\n",
    "    xmin.grad = xgrad\n",
    "    \n",
    "    optim.step()\n",
    "    scheduler.step()\n",
    "    \n",
    "    if step%100 == 0:\n",
    "        print(f\"STEPS: {step}, xmin: {xmin.data}, min_value: {ymin.data}\")"
   ]
  },
  {
   "cell_type": "code",
   "execution_count": null,
   "metadata": {},
   "outputs": [],
   "source": [
    "minima = xmin.data\n",
    "minima_backup = minima\n",
    "minval_backup = min_val"
   ]
  },
  {
   "cell_type": "code",
   "execution_count": null,
   "metadata": {},
   "outputs": [],
   "source": [
    "# LVLs = np.linspace(sim.min(), sim.max(), 20)\n",
    "LVLs = 50\n",
    "\n",
    "y_ = cvxNet(xx).data.cpu().numpy().reshape(Y.shape) - min_val\n",
    "\n",
    "plt.figure(figsize=(5,5))\n",
    "plt.contourf(X1, X2, y_, levels=LVLs)\n",
    "cs = plt.contour(X1, X2, y_, levels=LVLs, linestyles=\"None\", colors=\"k\", linewidths=1)\n",
    "plt.clabel(cs, cs.levels, inline=True, fontsize=8, fmt=\"%1.2f\")\n",
    "plt.scatter(*minima[0].tolist(), s=100, edgecolors=\"red\")\n",
    "plt.scatter(*xmin.data[0].tolist(), s=50, edgecolors=\"red\", marker=\"*\")\n",
    "\n",
    "# plt.tick_params(left = False, right = False , labelleft = False ,\n",
    "#                 labelbottom = False, bottom = False)\n",
    "# plt.savefig(\"./outputs/04.0_convex_distance/convex_contour_dist.pdf\", bbox_inches='tight')"
   ]
  },
  {
   "cell_type": "code",
   "execution_count": null,
   "metadata": {},
   "outputs": [],
   "source": [
    "# minima = xmin.data\n",
    "# min_val = ymin.data[0].item()\n",
    "# minima, min_val"
   ]
  },
  {
   "cell_type": "markdown",
   "metadata": {},
   "source": [
    "## Using Learned function for Distance"
   ]
  },
  {
   "cell_type": "code",
   "execution_count": null,
   "metadata": {},
   "outputs": [],
   "source": [
    "xx_ = xx + minima\n",
    "y_ = cvxNet(xx_).data.cpu().numpy().reshape(Y.shape)- min_val\n",
    "# y_ = y_**0.5\n",
    "\n",
    "LVLs = 50\n",
    "plt.figure(figsize=(5,5))\n",
    "plt.contourf(X1, X2, y_, levels=LVLs)\n",
    "cs = plt.contour(X1, X2, y_, levels=LVLs, linestyles=\"None\", colors=\"k\", linewidths=1)\n",
    "plt.clabel(cs, cs.levels, inline=True, fontsize=10, fmt=\"%1.2f\")\n",
    "plt.scatter(0, 0, s=100, edgecolors=\"red\")"
   ]
  },
  {
   "cell_type": "markdown",
   "metadata": {},
   "source": [
    "## Contour as Distance"
   ]
  },
  {
   "cell_type": "code",
   "execution_count": null,
   "metadata": {},
   "outputs": [],
   "source": [
    "def get_contour_distance_lp(level=1.0, p=1):\n",
    "    xx_ =  xx\n",
    "    x_norm = torch.norm(xx_, dim=1, keepdim=True)\n",
    "    xx_= xx_/x_norm*level\n",
    "    y_ = torch.norm(xx_, p=p, dim=1, keepdim=True)\n",
    "    y_ = y_*x_norm#/level\n",
    "    return y_"
   ]
  },
  {
   "cell_type": "code",
   "execution_count": null,
   "metadata": {},
   "outputs": [],
   "source": [
    "y_ = get_contour_distance_lp(0.5, p=1.0).data.cpu().numpy().reshape(Y.shape)\n",
    "\n",
    "LVLs = 50\n",
    "plt.figure(figsize=(8,8))\n",
    "plt.contourf(X1, X2, y_, levels=LVLs)\n",
    "cs = plt.contour(X1, X2, y_, levels=LVLs, linestyles=\"None\", colors=\"k\", linewidths=1)\n",
    "plt.clabel(cs, cs.levels, inline=True, fontsize=10, fmt=\"%1.2f\")\n",
    "# plt.scatter(0, 0, s=100, edgecolors=\"red\")"
   ]
  },
  {
   "cell_type": "markdown",
   "metadata": {},
   "source": [
    "### Extracting the Exact Contour "
   ]
  },
  {
   "cell_type": "code",
   "execution_count": null,
   "metadata": {},
   "outputs": [],
   "source": [
    "contour_levels = []"
   ]
  },
  {
   "cell_type": "code",
   "execution_count": null,
   "metadata": {},
   "outputs": [],
   "source": [
    "cvxNet.eval()"
   ]
  },
  {
   "cell_type": "code",
   "execution_count": null,
   "metadata": {},
   "outputs": [],
   "source": [
    "xx.shape"
   ]
  },
  {
   "cell_type": "code",
   "execution_count": null,
   "metadata": {},
   "outputs": [],
   "source": [
    "level = 0.05 #0.05   ### add more contours here\n",
    "xx_norm = torch.norm(xx, dim=1, keepdim=True)\n",
    "xx_ = xx/xx_norm * level"
   ]
  },
  {
   "cell_type": "code",
   "execution_count": null,
   "metadata": {},
   "outputs": [],
   "source": [
    "xx_lnorm = torch.ones_like(xx_norm)*2#0.5\n",
    "xx_lnorm = torch.autograd.Variable(xx_lnorm, requires_grad=True)\n",
    "xx_lnorm"
   ]
  },
  {
   "cell_type": "code",
   "execution_count": null,
   "metadata": {},
   "outputs": [],
   "source": [
    "# # y_ = (xx_norm/xx_lnorm.data).cpu().reshape(X1.shape)\n",
    "# yy_ = cvxNet(xx_*xx_lnorm + minima) - min_val - level\n",
    "# # yy_ = torch.abs(yy_)\n",
    "# y_= yy_.data.numpy().reshape(Y.shape)\n",
    "\n",
    "# LVLs = 20\n",
    "# plt.figure(figsize=(6,6))\n",
    "# plt.contourf(X1, X2, y_, levels=LVLs)\n",
    "# cs = plt.contour(X1, X2, y_, levels=LVLs, linestyles=\"None\", colors=\"k\", linewidths=1)\n",
    "# plt.clabel(cs, cs.levels, inline=True, fontsize=10, fmt=\"%1.2f\")"
   ]
  },
  {
   "cell_type": "code",
   "execution_count": null,
   "metadata": {},
   "outputs": [],
   "source": [
    "optimizer = torch.optim.Adam([xx_lnorm], lr=0.03)\n",
    "STEPS = 4000\n",
    "scheduler = torch.optim.lr_scheduler.CosineAnnealingLR(optimizer, T_max=STEPS)"
   ]
  },
  {
   "cell_type": "code",
   "execution_count": null,
   "metadata": {},
   "outputs": [],
   "source": [
    "# minima -= 0.01"
   ]
  },
  {
   "cell_type": "markdown",
   "metadata": {},
   "source": [
    "### Training Loop"
   ]
  },
  {
   "cell_type": "code",
   "execution_count": null,
   "metadata": {},
   "outputs": [],
   "source": [
    "for step in range(STEPS):\n",
    "    optimizer.zero_grad() \n",
    "\n",
    "    yy_ = torch.abs(cvxNet(xx_*xx_lnorm + minima) - min_val - level)\n",
    "    xgrad = torch.autograd.grad(outputs=yy_, inputs=xx_lnorm, grad_outputs=torch.ones_like(yy_), \n",
    "                            only_inputs=True, retain_graph=True, create_graph=True)[0]\n",
    "    xx_lnorm.grad = xgrad\n",
    "    \n",
    "    optimizer.step()\n",
    "    scheduler.step()    \n",
    "    \n",
    "    if step%100 == 0:\n",
    "        print(f\"STEPS: {step}, norm_min: {xx_lnorm.data.min()}, norm_max: {xx_lnorm.data.max()}, min_value: {ymin.data.min()}\")"
   ]
  },
  {
   "cell_type": "code",
   "execution_count": null,
   "metadata": {},
   "outputs": [],
   "source": [
    "y_ = (xx_norm/xx_lnorm.data).cpu().reshape(X1.shape)\n",
    "\n",
    "LVLs = 20\n",
    "plt.figure(figsize=(6,6))\n",
    "plt.contourf(X1, X2, y_, levels=LVLs)\n",
    "cs = plt.contour(X1, X2, y_, levels=LVLs, linestyles=\"None\", colors=\"k\", linewidths=1)\n",
    "plt.clabel(cs, cs.levels, inline=True, fontsize=10, fmt=\"%1.2f\")\n",
    "\n",
    "# plt.tick_params(left = False, right = False , labelleft = False ,\n",
    "#                 labelbottom = False, bottom = False)\n",
    "plt.savefig(f\"./outputs/09_convex_distance/convex_contour_dist_l{level}.pdf\", bbox_inches='tight')"
   ]
  },
  {
   "cell_type": "code",
   "execution_count": null,
   "metadata": {},
   "outputs": [],
   "source": [
    "y_.shape"
   ]
  },
  {
   "cell_type": "code",
   "execution_count": null,
   "metadata": {},
   "outputs": [],
   "source": [
    "contour_levels += [level]\n",
    "contour_levels = list(set(contour_levels))"
   ]
  },
  {
   "cell_type": "code",
   "execution_count": null,
   "metadata": {},
   "outputs": [],
   "source": [
    "contour_levels"
   ]
  },
  {
   "cell_type": "code",
   "execution_count": null,
   "metadata": {},
   "outputs": [],
   "source": [
    "contour_levels = sorted(contour_levels)"
   ]
  },
  {
   "cell_type": "markdown",
   "metadata": {},
   "source": [
    "## Convex Function for refrence"
   ]
  },
  {
   "cell_type": "code",
   "execution_count": null,
   "metadata": {},
   "outputs": [],
   "source": [
    "# y_ = cvxNet(xx + minima).data.cpu().numpy().reshape(Y.shape)- min_val\n",
    "y_ = cvxNet(xx).data.cpu().numpy().reshape(Y.shape) - min_val\n",
    "\n",
    "LVLs = 50\n",
    "plt.figure(figsize=(6,6))\n",
    "plt.contourf(X1, X2, y_, levels=LVLs)\n",
    "cs = plt.contour(X1, X2, y_, levels=LVLs, linestyles=\"None\", colors=\"k\", linewidths=1)\n",
    "plt.clabel(cs, cs.levels[:10], inline=True, fontsize=10, fmt=\"%1.2f\")\n",
    "plt.contour(X1, X2, y_, levels=contour_levels, linestyles=\"None\", colors=\"orange\", linewidths=2)\n",
    "plt.scatter(*minima[0].tolist(), s=100, edgecolors=\"red\")\n",
    "\n",
    "# plt.tick_params(left = False, right = False , labelleft = False ,\n",
    "#                 labelbottom = False, bottom = False)\n",
    "plt.savefig(f\"./outputs/09_convex_distance/convex_contour_dist_func.pdf\", bbox_inches='tight')"
   ]
  },
  {
   "cell_type": "code",
   "execution_count": null,
   "metadata": {},
   "outputs": [],
   "source": [
    "minima"
   ]
  },
  {
   "cell_type": "code",
   "execution_count": null,
   "metadata": {},
   "outputs": [],
   "source": []
  }
 ],
 "metadata": {
  "kernelspec": {
   "display_name": "Python 3 (ipykernel)",
   "language": "python",
   "name": "python3"
  },
  "language_info": {
   "codemirror_mode": {
    "name": "ipython",
    "version": 3
   },
   "file_extension": ".py",
   "mimetype": "text/x-python",
   "name": "python",
   "nbconvert_exporter": "python",
   "pygments_lexer": "ipython3",
   "version": "3.11.9"
  }
 },
 "nbformat": 4,
 "nbformat_minor": 4
}
