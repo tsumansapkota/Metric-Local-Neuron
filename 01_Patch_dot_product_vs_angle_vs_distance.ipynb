{
 "cells": [
  {
   "cell_type": "code",
   "execution_count": null,
   "metadata": {},
   "outputs": [],
   "source": [
    "import numpy as np\n",
    "import copy\n",
    "import matplotlib\n",
    "import matplotlib.pyplot as plt\n",
    "from mpl_toolkits.mplot3d import Axes3D"
   ]
  },
  {
   "cell_type": "code",
   "execution_count": null,
   "metadata": {},
   "outputs": [],
   "source": [
    "import torch\n",
    "import torch.nn as nn\n",
    "import dtnnlib as dtnn\n",
    "# import resnet_cifar"
   ]
  },
  {
   "cell_type": "code",
   "execution_count": null,
   "metadata": {},
   "outputs": [],
   "source": [
    "import scipy.stats as st"
   ]
  },
  {
   "cell_type": "markdown",
   "metadata": {},
   "source": [
    "## Image Dot Product"
   ]
  },
  {
   "cell_type": "code",
   "execution_count": null,
   "metadata": {},
   "outputs": [],
   "source": [
    "N = 5\n",
    "W = np.ones((N,N))"
   ]
  },
  {
   "cell_type": "code",
   "execution_count": null,
   "metadata": {},
   "outputs": [],
   "source": [
    "def gkern(kernlen=21, nsig=3):\n",
    "    \"\"\"Returns a 2D Gaussian kernel.\"\"\"\n",
    "\n",
    "    x = np.linspace(-nsig, nsig, kernlen+1)\n",
    "    kern1d = np.diff(st.norm.cdf(x))\n",
    "    kern2d = np.outer(kern1d, kern1d)\n",
    "    return kern2d/kern2d.sum()"
   ]
  },
  {
   "cell_type": "code",
   "execution_count": null,
   "metadata": {},
   "outputs": [],
   "source": [
    "G = gkern(N, 2.5)\n",
    "G = G/G.max()"
   ]
  },
  {
   "cell_type": "code",
   "execution_count": null,
   "metadata": {},
   "outputs": [],
   "source": [
    "G"
   ]
  },
  {
   "cell_type": "code",
   "execution_count": null,
   "metadata": {},
   "outputs": [],
   "source": [
    "fig, (ax0, ax1) = plt.subplots(2, 1, figsize=(3, 5))\n",
    "ax = ax0\n",
    "ax.imshow(G, vmin=0, vmax=1, cmap=\"gray\")\n",
    "for i in range(G.shape[0]):\n",
    "    for j in range(G.shape[1]):\n",
    "        v = float(G[i, j])\n",
    "        text = ax.text(j, i, f\"{v:.2f}\",\n",
    "                       ha=\"center\", va=\"center\", color=[\"white\", \"k\"][v>0.5])\n",
    "ax.tick_params(left = False, right = False , labelleft = False ,\n",
    "                labelbottom = False, bottom = False)\n",
    "\n",
    "ax = ax1\n",
    "ax.imshow(W, vmin=0, vmax=1, cmap=\"gray\")\n",
    "color = \"orange\"\n",
    "for i in range(W.shape[0]):\n",
    "    for j in range(W.shape[1]):\n",
    "        v = float(W[i, j])\n",
    "        text = ax.text(j, i, f\"{v:.2f}\",\n",
    "                       ha=\"center\", va=\"center\", color=[\"white\", \"k\"][v>0.5])\n",
    "    if i >= W.shape[0]-1:\n",
    "        continue\n",
    "    ax.hlines(i+0.5, -0.5, N-0.5, color=\"k\")\n",
    "    ax.vlines(i+0.5, -0.5, N-0.5, color=\"k\")\n",
    "    pass\n",
    "\n",
    "plt.tick_params(left = False, right = False , labelleft = False ,\n",
    "                labelbottom = False, bottom = False)\n",
    "\n",
    "# plt.show()"
   ]
  },
  {
   "cell_type": "code",
   "execution_count": null,
   "metadata": {},
   "outputs": [],
   "source": [
    "alphas = np.linspace(0, 1, num=10)"
   ]
  },
  {
   "cell_type": "markdown",
   "metadata": {},
   "source": [
    "## For dot products"
   ]
  },
  {
   "cell_type": "code",
   "execution_count": null,
   "metadata": {},
   "outputs": [],
   "source": [
    "### From zeros to G\n",
    "dot_prods0 = []\n",
    "for alpha in alphas:\n",
    "    A = alpha*G #+ (1-alpha)*W\n",
    "    dp = (A*G).sum() ### calculating the dot product\n",
    "#     dp = dp/np.linalg.norm(A)\n",
    "    dot_prods0.append(dp)"
   ]
  },
  {
   "cell_type": "code",
   "execution_count": null,
   "metadata": {},
   "outputs": [],
   "source": [
    "dot_prods0"
   ]
  },
  {
   "cell_type": "code",
   "execution_count": null,
   "metadata": {},
   "outputs": [],
   "source": [
    "### From G to ones\n",
    "dot_prods1 = []\n",
    "for alpha in alphas:\n",
    "    A = alpha*W + (1-alpha)*G\n",
    "    dp = (A*G).sum() ### calculating the dot product    \n",
    "#     dp = dp/np.linalg.norm(A)\n",
    "    dot_prods1.append(dp)"
   ]
  },
  {
   "cell_type": "code",
   "execution_count": null,
   "metadata": {},
   "outputs": [],
   "source": [
    "dot_prods1"
   ]
  },
  {
   "cell_type": "code",
   "execution_count": null,
   "metadata": {},
   "outputs": [],
   "source": [
    "plt.plot(alphas, dot_prods0, marker='.')\n",
    "plt.plot(alphas+1, dot_prods1, marker='.')"
   ]
  },
  {
   "cell_type": "code",
   "execution_count": null,
   "metadata": {},
   "outputs": [],
   "source": [
    "from matplotlib.offsetbox import OffsetImage, AnnotationBbox\n",
    "from matplotlib.ticker import FormatStrFormatter"
   ]
  },
  {
   "cell_type": "code",
   "execution_count": null,
   "metadata": {},
   "outputs": [],
   "source": [
    "! mkdir outputs/01_image_dot_product"
   ]
  },
  {
   "cell_type": "code",
   "execution_count": null,
   "metadata": {},
   "outputs": [],
   "source": [
    "## Plot the output with images\n",
    "\n",
    "fig, ax = plt.subplots(1, 1, figsize=(6,5))\n",
    "\n",
    "plt.plot(alphas, dot_prods0, marker='.')\n",
    "plt.plot(alphas+1, dot_prods1, marker='.')\n",
    "\n",
    "for idx_alpha, alpha in enumerate(alphas):\n",
    "    if idx_alpha+1 == len(alphas):\n",
    "        continue\n",
    "    A = alpha*G #+ (1-alpha)*W\n",
    "    dp = (A*G).sum() ### calculating the dot product\n",
    "    \n",
    "    im = OffsetImage(A, norm=matplotlib.colors.Normalize(vmin=0, vmax=1), cmap=\"gray\", zoom=3)\n",
    "    ab = AnnotationBbox(im, (alpha, dp+0.5), frameon=True, pad=0)\n",
    "    ax.add_artist(ab)\n",
    "    \n",
    "for alpha in alphas:\n",
    "    A = alpha*W + (1-alpha)*G\n",
    "    dp = (A*G).sum() ### calculating the dot product    \n",
    "    im = OffsetImage(A, norm=matplotlib.colors.Normalize(vmin=0, vmax=1), cmap=\"gray\", zoom=3)\n",
    "    ab = AnnotationBbox(im, (1+alpha, dp+0.5), frameon=True, pad=0)\n",
    "    ax.add_artist(ab)\n",
    "\n",
    "ax.scatter(alphas[-1], dot_prods0[-1], marker='*', s=60, color='green', zorder=20)\n",
    "\n",
    "ax.set_ylim(top=7.5)\n",
    "ax.set_xlabel(\"Interpolation\")\n",
    "ax.set_ylabel(\"Dot Product\")\n",
    "ax.yaxis.set_major_formatter(FormatStrFormatter('%.2f'))\n",
    "\n",
    "plt.savefig(\"./outputs/01_image_dot_product/interpolate_image_dot.pdf\", bbox_inches='tight')"
   ]
  },
  {
   "cell_type": "markdown",
   "metadata": {},
   "source": [
    "## For euclidean distance"
   ]
  },
  {
   "cell_type": "code",
   "execution_count": null,
   "metadata": {},
   "outputs": [],
   "source": [
    "### From zeros to G\n",
    "dists0 = []\n",
    "for alpha in alphas:\n",
    "    A = alpha*G #+ (1-alpha)*W\n",
    "    d = np.linalg.norm((A-G).reshape(-1), ord=2)  ### calculating the euclidean_distance\n",
    "    dists0.append(d)\n",
    "\n",
    "### From G to ones\n",
    "dists1 = []\n",
    "for alpha in alphas:\n",
    "    A = alpha*W + (1-alpha)*G\n",
    "    d = np.linalg.norm((A-G).reshape(-1), ord=2)  ### calculating the euclidean_distance\n",
    "    dists1.append(d)"
   ]
  },
  {
   "cell_type": "code",
   "execution_count": null,
   "metadata": {},
   "outputs": [],
   "source": [
    "plt.plot(alphas, dists0, marker='o')\n",
    "plt.plot(alphas+1, dists1, marker='o')"
   ]
  },
  {
   "cell_type": "code",
   "execution_count": null,
   "metadata": {},
   "outputs": [],
   "source": [
    "## Plot the output with images\n",
    "\n",
    "fig, ax = plt.subplots(1, 1, figsize=(6,5))\n",
    "\n",
    "plt.plot(alphas, dists0, marker='o')\n",
    "plt.plot(alphas+1, dists1, marker='o')\n",
    "\n",
    "for idx_alpha, alpha in enumerate(alphas):\n",
    "    if idx_alpha+1 == len(alphas):\n",
    "        continue\n",
    "    A = alpha*G #+ (1-alpha)*W\n",
    "    d = np.linalg.norm((A-G).reshape(-1), ord=2)  ### calculating the euclidean_distance\n",
    "    \n",
    "    im = OffsetImage(A, norm=matplotlib.colors.Normalize(vmin=0, vmax=1), cmap=\"gray\", zoom=3)\n",
    "    ab = AnnotationBbox(im, (alpha, d+0.3), frameon=True, pad=0)\n",
    "    ax.add_artist(ab)\n",
    "    \n",
    "for alpha in alphas:\n",
    "    A = alpha*W + (1-alpha)*G\n",
    "    d = np.linalg.norm((A-G).reshape(-1), ord=2)  ### calculating the euclidean_distance\n",
    "    im = OffsetImage(A, norm=matplotlib.colors.Normalize(vmin=0, vmax=1), cmap=\"gray\", zoom=3)\n",
    "    ab = AnnotationBbox(im, (1+alpha, d+0.4), frameon=True, pad=0)\n",
    "    ax.add_artist(ab)\n",
    "\n",
    "ax.scatter(alphas[-1], dists0[-1], marker='*', s=100, color='green', zorder=20)\n",
    "ax.set_ylim(top=4.55)\n",
    "ax.set_xlabel(\"Interpolation\")\n",
    "ax.set_ylabel(\"Euclidean Distance\")\n",
    "ax.yaxis.set_major_formatter(FormatStrFormatter('%.2f'))\n",
    "\n",
    "plt.savefig(\"./outputs/01_image_dot_product/interpolate_image_distance.pdf\", bbox_inches='tight')"
   ]
  },
  {
   "cell_type": "markdown",
   "metadata": {},
   "source": [
    "## For angle / cos(theta)"
   ]
  },
  {
   "cell_type": "code",
   "execution_count": null,
   "metadata": {},
   "outputs": [],
   "source": [
    "### From zeros to G\n",
    "dists0 = []\n",
    "for alpha in alphas:\n",
    "    A = alpha*G #+ (1-alpha)*W\n",
    "    u, v = A.reshape(-1), G.reshape(-1)\n",
    "    d = np.dot(u,v)/(np.linalg.norm(u)*np.linalg.norm(v)) ## calculating cosine angle\n",
    "    if alpha == 0:\n",
    "        d = 1\n",
    "    d = np.clip(d, -1, 1)\n",
    "    dists0.append(d)\n",
    "\n",
    "### From G to ones\n",
    "dists1 = []\n",
    "for alpha in alphas:\n",
    "    A = alpha*W + (1-alpha)*G\n",
    "    u, v = A.reshape(-1), G.reshape(-1)\n",
    "    d = np.dot(u,v)/(np.linalg.norm(u)*np.linalg.norm(v)+1e-15) ## calculating cosine angle\n",
    "    d = np.clip(d, -1, 1)\n",
    "    dists1.append(d)"
   ]
  },
  {
   "cell_type": "code",
   "execution_count": null,
   "metadata": {},
   "outputs": [],
   "source": [
    "plt.plot(alphas, dists0, marker='o')\n",
    "plt.plot(alphas+1, dists1, marker='o')"
   ]
  },
  {
   "cell_type": "code",
   "execution_count": null,
   "metadata": {},
   "outputs": [],
   "source": [
    "fig, ax = plt.subplots(1, 1, figsize=(6,5))\n",
    "\n",
    "for idx_alpha, alpha in enumerate(alphas):\n",
    "    A = alpha*G #+ (1-alpha)*W\n",
    "    d = dists0[idx_alpha]\n",
    "    im = OffsetImage(A, norm=matplotlib.colors.Normalize(vmin=0, vmax=1), cmap=\"gray\", zoom=3)\n",
    "    ab = AnnotationBbox(im, (alpha, d+0.02), frameon=True, pad=0)\n",
    "    ax.add_artist(ab)\n",
    "    \n",
    "for idx_alpha, alpha in enumerate(alphas):\n",
    "    if idx_alpha == 0:\n",
    "        continue\n",
    "    A = alpha*W + (1-alpha)*G\n",
    "    d = dists1[idx_alpha]\n",
    "    im = OffsetImage(A, norm=matplotlib.colors.Normalize(vmin=0, vmax=1), cmap=\"gray\", zoom=3)\n",
    "    ab = AnnotationBbox(im, (1+alpha, d+0.033), frameon=True, pad=0)\n",
    "    ax.add_artist(ab)\n",
    "\n",
    "ax.scatter(alphas[-1], dists0[-1], marker='*', s=120, color='green', zorder=20)\n",
    "\n",
    "plt.plot(alphas, dists0, marker='o')\n",
    "plt.plot(alphas+1, dists1, marker='o')\n",
    "\n",
    "ax.set_ylim(top=1.06)\n",
    "ax.set_xlabel(\"Interpolation\")\n",
    "ax.set_ylabel(\"Cosine Angle\")\n",
    "ax.yaxis.set_major_formatter(FormatStrFormatter('%.2f'))\n",
    "\n",
    "plt.savefig(\"./outputs/01_image_dot_product/interpolate_image_angle.pdf\", bbox_inches='tight')"
   ]
  },
  {
   "cell_type": "code",
   "execution_count": null,
   "metadata": {},
   "outputs": [],
   "source": []
  }
 ],
 "metadata": {
  "kernelspec": {
   "display_name": "Python 3 (ipykernel)",
   "language": "python",
   "name": "python3"
  },
  "language_info": {
   "codemirror_mode": {
    "name": "ipython",
    "version": 3
   },
   "file_extension": ".py",
   "mimetype": "text/x-python",
   "name": "python",
   "nbconvert_exporter": "python",
   "pygments_lexer": "ipython3",
   "version": "3.11.9"
  }
 },
 "nbformat": 4,
 "nbformat_minor": 4
}
