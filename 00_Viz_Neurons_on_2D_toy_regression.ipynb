{
 "cells": [
  {
   "cell_type": "code",
   "execution_count": null,
   "id": "6b0982c5",
   "metadata": {},
   "outputs": [],
   "source": [
    "import numpy as np\n",
    "\n",
    "import matplotlib\n",
    "import matplotlib.pyplot as plt\n",
    "from mpl_toolkits.mplot3d import Axes3D"
   ]
  },
  {
   "cell_type": "code",
   "execution_count": null,
   "id": "39dc9df5",
   "metadata": {},
   "outputs": [],
   "source": [
    "import torch\n",
    "import torch.nn as nn\n",
    "import dtnnlib as dtnn"
   ]
  },
  {
   "cell_type": "code",
   "execution_count": null,
   "id": "be9d7e4e",
   "metadata": {},
   "outputs": [],
   "source": [
    "num_points = 75\n",
    "# X1 = np.linspace(-2.5, 1.9, num_points)\n",
    "X1 = np.linspace(-2.5, 2.5, num_points)\n",
    "X2 = np.linspace(-2.5, 3, num_points)\n",
    "# X2 = np.linspace(-2.2, 2.1, num_points)\n",
    "X1, X2 = np.meshgrid(X1, X2)\n",
    "\n",
    "Y = np.sin(np.sqrt(X1**2 + X2**2))*2-1. - 0.1*(X1)+0.02*(X2)\n",
    "# Y = np.sqrt(X1**2 + X2**2)\n",
    "\n",
    "####Scaling the data to range -1,1\n",
    "X1 = 2*(X1 - X1.min())/(X1.max() - X1.min()) -1\n",
    "X2 = 2*(X2 - X2.min())/(X2.max() - X2.min()) -1\n",
    "Y = 2*(Y - Y.min())/(Y.max() - Y.min()) -1"
   ]
  },
  {
   "cell_type": "code",
   "execution_count": null,
   "id": "a22d16e8",
   "metadata": {},
   "outputs": [],
   "source": [
    "x1 = X1.reshape(-1)\n",
    "x2 = X2.reshape(-1)\n",
    "y = Y.reshape(-1)\n",
    "\n",
    "xx = np.c_[x1, x2]\n",
    "yy = Y.reshape(-1,1)\n",
    "xx, yy = torch.FloatTensor(xx), torch.FloatTensor(yy)\n",
    "\n",
    "\n",
    "%matplotlib inline\n",
    "fig = plt.figure(figsize=(10,7))\n",
    "ax = plt.axes(projection='3d')\n",
    "ax.plot_surface(X1, X2, Y, cmap='plasma')\n",
    "ax.set_xlabel('X1')\n",
    "ax.set_ylabel('X2')\n",
    "ax.set_zlabel('Y')\n",
    "plt.show()"
   ]
  },
  {
   "cell_type": "code",
   "execution_count": null,
   "id": "8dfab2b1",
   "metadata": {},
   "outputs": [],
   "source": [
    "## Define piecewise MLP\n",
    "torch.manual_seed(103)\n",
    "\n",
    "h = 8\n",
    "net = nn.Sequential(\n",
    "            nn.Linear(2, h),\n",
    "            nn.ReLU(),\n",
    "            nn.Linear(h, 1),\n",
    ")"
   ]
  },
  {
   "cell_type": "code",
   "execution_count": null,
   "id": "270a6c46",
   "metadata": {},
   "outputs": [],
   "source": [
    "# device = torch.device(\"cuda:0\")\n",
    "device = torch.device(\"cpu\")"
   ]
  },
  {
   "cell_type": "code",
   "execution_count": null,
   "id": "a61c2c3f",
   "metadata": {},
   "outputs": [],
   "source": [
    "xx, yy = xx.to(device), yy.to(device)\n",
    "net.to(device)"
   ]
  },
  {
   "cell_type": "code",
   "execution_count": null,
   "id": "92621f41",
   "metadata": {},
   "outputs": [],
   "source": [
    "optimizer = torch.optim.Adam(net.parameters(), lr=0.001)\n",
    "criterion = nn.MSELoss()"
   ]
  },
  {
   "cell_type": "code",
   "execution_count": null,
   "id": "137631b0",
   "metadata": {},
   "outputs": [],
   "source": [
    "# fig = plt.figure(figsize=(9,8))\n",
    "# ax = plt.axes(projection='3d')\n",
    "\n",
    "for epoch in range(5000):\n",
    "\n",
    "    yout = net(xx)\n",
    "    loss =criterion(yout, yy)\n",
    "    optimizer.zero_grad()\n",
    "    \n",
    "    loss.backward()\n",
    "    optimizer.step()\n",
    "    \n",
    "    if epoch%200 == 0:\n",
    "        error = float(loss)\n",
    "        print(f'Epoch:{epoch} | Error:{error}')\n",
    "#         ax.clear()\n",
    "        \n",
    "#         ax.scatter(X1, X2, Y)\n",
    "#         yout_ = yout.reshape(Y.shape)\n",
    "#         ax.scatter(X1, X2, yout_, color='r', marker='.')\n",
    "#         ax.set_xlabel('X1')\n",
    "#         ax.set_ylabel('X2')\n",
    "#         ax.set_zlabel('Y')\n",
    "        \n",
    "#         fig.canvas.draw()\n",
    "#         plt.pause(0.01)"
   ]
  },
  {
   "cell_type": "code",
   "execution_count": null,
   "id": "d69c5781",
   "metadata": {},
   "outputs": [],
   "source": [
    "# %matplotlib tk\n",
    "\n",
    "yout_ = yout.data.cpu().reshape(Y.shape)\n",
    "\n",
    "fig = plt.figure(figsize=(9,8))\n",
    "ax = plt.axes(projection='3d')\n",
    "ax.scatter(X1, X2, Y, marker= '.')\n",
    "ax.scatter(X1, X2, yout_, color='r', marker='.')\n",
    "ax.set_xlabel('X1')\n",
    "ax.set_ylabel('X2')\n",
    "ax.set_zlabel('Y')\n",
    "# plt.pause(10)\n",
    "plt.show()"
   ]
  },
  {
   "cell_type": "markdown",
   "id": "24eb98b3",
   "metadata": {},
   "source": [
    "#### Visualize individual Neuron"
   ]
  },
  {
   "cell_type": "code",
   "execution_count": null,
   "id": "12b15578",
   "metadata": {},
   "outputs": [],
   "source": [
    "i = -1"
   ]
  },
  {
   "cell_type": "code",
   "execution_count": null,
   "id": "7950c05a",
   "metadata": {},
   "outputs": [],
   "source": [
    "### run below iteratively\n",
    "i += 1\n",
    "a = net[1](net[0](xx)).data[:,i]\n",
    "\n",
    "# %matplotlib tk\n",
    "%matplotlib inline\n",
    "fig = plt.figure(figsize=(7,5))\n",
    "ax = plt.axes(projection='3d')\n",
    "ax.plot_surface(X1, X2, a.reshape(X1.shape), cmap='plasma')\n",
    "ax.set_xlabel('X1')\n",
    "ax.set_ylabel('X2')\n",
    "ax.set_zlabel('Y')\n",
    "# plt.pause(10)\n",
    "plt.show()"
   ]
  },
  {
   "cell_type": "markdown",
   "id": "62358dcd",
   "metadata": {},
   "source": [
    "##### Extracting the pieces"
   ]
  },
  {
   "cell_type": "code",
   "execution_count": null,
   "id": "0752f303",
   "metadata": {},
   "outputs": [],
   "source": [
    "###### equation of line where (wx+b) == 0\n",
    "\n",
    "## (x1w1 + x2w2 + b = 0) ... solving\n",
    "## x2 = (-b-w1x1)/w2\n",
    "\n",
    "## lets draw line given x1 is in -2 and 2.\n",
    "lines = []\n",
    "vecs = []\n",
    "mcs = []\n",
    "for i in range(len(net[0].bias)):\n",
    "    ## for x1 = -2 and 2\n",
    "    with torch.no_grad():\n",
    "        w1, w2 = net[0].weight.t()[:, i]\n",
    "        b = net[0].bias[i]\n",
    "        x2_a = -(b+w1*-2)/w2\n",
    "        x2_b = -(b+w1*2)/w2\n",
    "        lines.append([(-2, x2_a), (2, x2_b)])\n",
    "#         lines.append([(-1, x2_a), (1, x2_b)])\n",
    "        \n",
    "        vecs.append([w1, w2])\n",
    "        ## x1w1 + x2w2 + b = 0\n",
    "        ## x2 = (-x1w1-b)/w2\n",
    "        mcs.append([-w1/w2, -b/w2])"
   ]
  },
  {
   "cell_type": "code",
   "execution_count": null,
   "id": "476f6f80",
   "metadata": {},
   "outputs": [],
   "source": [
    "lines = torch.Tensor(lines).cpu().numpy()\n",
    "vecs = torch.Tensor(vecs).cpu().numpy()\n",
    "mcs = torch.Tensor(mcs).cpu().numpy()\n",
    "lines"
   ]
  },
  {
   "cell_type": "code",
   "execution_count": null,
   "id": "837b2266",
   "metadata": {},
   "outputs": [],
   "source": [
    "## make lines with max norm of 1\n",
    "lines = lines.reshape(-1, 2)\n",
    "# lines = lines/np.linalg.norm(lines, axis=1, keepdims=True)\n",
    "lines = lines.reshape(-1, 2,2)"
   ]
  },
  {
   "cell_type": "code",
   "execution_count": null,
   "id": "f9466c47",
   "metadata": {},
   "outputs": [],
   "source": [
    "vecs = vecs / np.linalg.norm(vecs, axis=1, keepdims=True)"
   ]
  },
  {
   "cell_type": "code",
   "execution_count": null,
   "id": "e1a01f12",
   "metadata": {},
   "outputs": [],
   "source": [
    "## interpolation of points along the lines\n",
    "# interp = np.linspace(0, 1, 20)\n",
    "# interp.shape, lines.shape"
   ]
  },
  {
   "cell_type": "code",
   "execution_count": null,
   "id": "604e2d49",
   "metadata": {},
   "outputs": [],
   "source": [
    "# interp = interp.reshape(-1,1)"
   ]
  },
  {
   "cell_type": "code",
   "execution_count": null,
   "id": "d710f6d1",
   "metadata": {},
   "outputs": [],
   "source": [
    "lines[0]"
   ]
  },
  {
   "cell_type": "code",
   "execution_count": null,
   "id": "50a3b3c8",
   "metadata": {},
   "outputs": [],
   "source": [
    "vecs[0]"
   ]
  },
  {
   "cell_type": "code",
   "execution_count": null,
   "id": "b465c15f",
   "metadata": {},
   "outputs": [],
   "source": []
  },
  {
   "cell_type": "code",
   "execution_count": null,
   "id": "788c52ce",
   "metadata": {},
   "outputs": [],
   "source": [
    "## plot the lines\n",
    "%matplotlib inline\n",
    "_x0, _x1 = 0.75, 0.5\n",
    "# _x0, _x1 = 0.20, 1.25\n",
    "actv = net[:2](torch.Tensor([[_x0, _x1]])).data.reshape(-1)\n",
    "\n",
    "plt.figure(figsize=(6,5))\n",
    "for i, line in enumerate(lines):\n",
    "    if i == 0: continue\n",
    "    color = matplotlib.cm.tab10(i)\n",
    "    plt.plot(line[:,0], line[:,1], c=color, lw=2)\n",
    "#     plt.arrow(0, 0, vecs[i][0]/4, vecs[i][1]/4, head_width=0.05, head_length=0.04, fc=color, ec=color, linestyle='solid', alpha=0.5)\n",
    "    \n",
    "    distance = ((lines[i, 0] - lines[i, 1])**2).sum()**0.5\n",
    "    interp = np.linspace(0, 1, int(distance)*10).reshape(-1,1)\n",
    "    pts = lines[i,0]*interp + lines[i,1]*(1-interp)\n",
    "    for j in range(len(pts)): \n",
    "        plt.arrow(pts[j,0], pts[j,1], vecs[i][0]/10, vecs[i][1]/10, head_width=0.05, head_length=0.04, fc=color, ec=color, linestyle='solid', alpha=0.5)\n",
    "    ## Perpendicular to the line from point\n",
    "    _m, _c = mcs[i,0], mcs[i,1]\n",
    "    _x = (_x0 + _m*(_x1 - _c))/(_m*_m + 1)\n",
    "    _y = _m*_x + _c\n",
    "    dist = ((_x0-_x)**2+(_x1-_y)**2)**0.5\n",
    "    dist = dist*(actv[i]>0)\n",
    "    plt.scatter(_x, _y, edgecolors='k', facecolors='yellow', s=10, lw=1, marker='o', zorder=99)\n",
    "    plt.plot([_x, _x0], [_y, _x1], lw=dist*4, color='k', zorder=10)\n",
    "#     plt.plot([_x, _x0], [_y, _x1], lw=actv[i]*4, color='k', zorder=10)\n",
    "        \n",
    "plt.scatter(_x0, _x1, edgecolors='k', facecolors='yellow', s=100, lw=1, marker='X', zorder=99)\n",
    "\n",
    "plt.axis(\"equal\")\n",
    "plt.xlim(-1, 1.5)\n",
    "plt.ylim(-1, 1.5)\n",
    "plt.xlabel('X1')\n",
    "plt.ylabel('X2')\n",
    "# plt.tick_params(left = False, right = False , labelleft = False ,\n",
    "#                 labelbottom = False, bottom = False)\n",
    "plt.savefig(\"./outputs/00_neuron_viz/linear_neurons_2d.pdf\", bbox_inches='tight')"
   ]
  },
  {
   "cell_type": "code",
   "execution_count": null,
   "id": "32114784",
   "metadata": {},
   "outputs": [],
   "source": [
    "xx.min(dim=0)[0], xx.max(dim=0)[0]"
   ]
  },
  {
   "cell_type": "code",
   "execution_count": null,
   "id": "40c574ba",
   "metadata": {},
   "outputs": [],
   "source": [
    "# my_cmap = matplotlib.colors.LinearSegmentedColormap.from_list(\"cust0\", ['green', 'white'], gamma=0.4)\n",
    "# my_cmap"
   ]
  },
  {
   "cell_type": "markdown",
   "id": "1ab957c1",
   "metadata": {},
   "source": [
    "## Visualize Radial Neurons"
   ]
  },
  {
   "cell_type": "code",
   "execution_count": null,
   "id": "f018d26c",
   "metadata": {},
   "outputs": [],
   "source": [
    "class One_Actv(nn.Module):\n",
    "    def __init__(self):\n",
    "        super().__init__()\n",
    "        self.scaler = nn.Parameter(torch.ones(1)*0)\n",
    "\n",
    "    def forward(self, x):\n",
    "        x = x*torch.exp(self.scaler)\n",
    "        return torch.exp(-x**2)"
   ]
  },
  {
   "cell_type": "code",
   "execution_count": null,
   "id": "13801021",
   "metadata": {},
   "outputs": [],
   "source": [
    "## Define piecewise MLP\n",
    "torch.manual_seed(103)\n",
    "\n",
    "h = 6\n",
    "net = nn.Sequential(\n",
    "            dtnn.DistanceTransformBase(2, h),\n",
    "            One_Actv(),\n",
    "            nn.Linear(h, 1),\n",
    ")"
   ]
  },
  {
   "cell_type": "code",
   "execution_count": null,
   "id": "c2dba227",
   "metadata": {},
   "outputs": [],
   "source": [
    "device = torch.device(\"cpu\")"
   ]
  },
  {
   "cell_type": "code",
   "execution_count": null,
   "id": "ee51009f",
   "metadata": {},
   "outputs": [],
   "source": [
    "xx, yy = xx.to(device), yy.to(device)\n",
    "net.to(device)"
   ]
  },
  {
   "cell_type": "code",
   "execution_count": null,
   "id": "889c9950",
   "metadata": {},
   "outputs": [],
   "source": [
    "optimizer = torch.optim.Adam(net.parameters(), lr=0.01) ## need higher lr\n",
    "criterion = nn.MSELoss()"
   ]
  },
  {
   "cell_type": "code",
   "execution_count": null,
   "id": "cd10f64e",
   "metadata": {},
   "outputs": [],
   "source": [
    "for epoch in range(5000):\n",
    "\n",
    "    yout = net(xx)\n",
    "    loss =criterion(yout, yy)\n",
    "    optimizer.zero_grad()\n",
    "    \n",
    "    loss.backward()\n",
    "    optimizer.step()\n",
    "    \n",
    "    if epoch%200 == 0:\n",
    "        error = float(loss)\n",
    "        print(f'Epoch:{epoch} | Error:{error}')"
   ]
  },
  {
   "cell_type": "code",
   "execution_count": null,
   "id": "9154cddd",
   "metadata": {},
   "outputs": [],
   "source": [
    "%matplotlib inline\n",
    "# %matplotlib tk\n",
    "\n",
    "\n",
    "yout_ = yout.data.cpu().reshape(Y.shape)\n",
    "\n",
    "fig = plt.figure(figsize=(9,8))\n",
    "ax = plt.axes(projection='3d')\n",
    "ax.scatter(X1, X2, Y, marker= '.')\n",
    "ax.scatter(X1, X2, yout_, color='r', marker='.')\n",
    "ax.set_xlabel('X1')\n",
    "ax.set_ylabel('X2')\n",
    "ax.set_zlabel('Y')\n",
    "plt.show()"
   ]
  },
  {
   "cell_type": "code",
   "execution_count": null,
   "id": "fe7c18f2",
   "metadata": {},
   "outputs": [],
   "source": [
    "centers = net[0].centers.data.cpu()\n",
    "centers"
   ]
  },
  {
   "cell_type": "code",
   "execution_count": null,
   "id": "fe782cb7",
   "metadata": {},
   "outputs": [],
   "source": [
    "actf = net[1](net[0](xx)).data.cpu()\n",
    "# actf = net[0](xx).data.cpu()"
   ]
  },
  {
   "cell_type": "code",
   "execution_count": null,
   "id": "65e1c004",
   "metadata": {},
   "outputs": [],
   "source": [
    "index = np.random.randint(len(actf))\n",
    "index"
   ]
  },
  {
   "cell_type": "code",
   "execution_count": null,
   "id": "1d83e440",
   "metadata": {},
   "outputs": [],
   "source": [
    "# index = 3660, 603, 5012, 4993\n",
    "index = 4988"
   ]
  },
  {
   "cell_type": "code",
   "execution_count": null,
   "id": "ccd0f22d",
   "metadata": {},
   "outputs": [],
   "source": [
    "actf[index]"
   ]
  },
  {
   "cell_type": "code",
   "execution_count": null,
   "id": "aa8be080",
   "metadata": {},
   "outputs": [],
   "source": [
    "fig = plt.figure(figsize=(6,5))\n",
    "ax = fig.gca()\n",
    "alpha = 0.3\n",
    "\n",
    "# index = np.random.randint(len(actf))\n",
    "_x0, _x1 = xx[index][0].item(), xx[index][1].item()\n",
    "\n",
    "for i, cent in enumerate(centers):\n",
    "    color = matplotlib.cm.tab10(i)\n",
    "    for scale in [2, 4, 8, 16]:\n",
    "        ell = matplotlib.patches.Ellipse(cent, scale*0.07, scale*0.07, edgecolor=color, facecolor=color, lw=2)\n",
    "#             ell.set_clip_box(ax.bbox)\n",
    "        ell.set_alpha(alpha/np.log2(scale))\n",
    "        ax.add_artist(ell)\n",
    "        pass\n",
    "\n",
    "#     for scale, alp in zip([2, 4, 8, 16, 32], [1, 0.5, 0.25, 0.125, 0.025]):\n",
    "#         ell = matplotlib.patches.Ellipse(cent, scale*0.1, scale*0.1, 180., edgecolor=color, facecolor=color, lw=1)\n",
    "#         ell.set_alpha(alpha*alp)\n",
    "#         ax.add_artist(ell)\n",
    "#         pass\n",
    "    \n",
    "    plt.plot([cent[0], _x0], [cent[1], _x1], lw=actf[index][i].item()*3, color='k', zorder=10)\n",
    "    plt.scatter(cent[0], cent[1], color=color, zorder=100)\n",
    "    pass\n",
    "plt.scatter(_x0, _x1, edgecolors='k', facecolors='yellow', s=100, lw=1, marker='X', zorder=99)\n",
    "\n",
    "plt.axis(\"equal\")\n",
    "# plt.xlim(-1.0, 1.0)\n",
    "# plt.ylim(-1.0, 1.0)\n",
    "plt.xlim(-1.75, 1.75)\n",
    "plt.ylim(-1.5, 2.0)\n",
    "\n",
    "plt.tick_params(left = False, right = False , labelleft = False ,\n",
    "                labelbottom = False, bottom = False)\n",
    "plt.savefig(\"./outputs/00_neuron_viz/dist_rbf_neurons_2d.pdf\", bbox_inches='tight')"
   ]
  },
  {
   "cell_type": "code",
   "execution_count": null,
   "id": "3af36beb",
   "metadata": {},
   "outputs": [],
   "source": []
  }
 ],
 "metadata": {
  "kernelspec": {
   "display_name": "Python 3 (ipykernel)",
   "language": "python",
   "name": "python3"
  },
  "language_info": {
   "codemirror_mode": {
    "name": "ipython",
    "version": 3
   },
   "file_extension": ".py",
   "mimetype": "text/x-python",
   "name": "python",
   "nbconvert_exporter": "python",
   "pygments_lexer": "ipython3",
   "version": "3.11.9"
  }
 },
 "nbformat": 4,
 "nbformat_minor": 5
}
