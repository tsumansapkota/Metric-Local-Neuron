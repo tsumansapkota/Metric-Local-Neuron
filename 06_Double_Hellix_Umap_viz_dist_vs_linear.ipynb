{
 "cells": [
  {
   "cell_type": "code",
   "execution_count": null,
   "metadata": {},
   "outputs": [],
   "source": [
    "import numpy as np\n",
    "import copy\n",
    "import matplotlib\n",
    "import matplotlib.pyplot as plt\n",
    "from mpl_toolkits.mplot3d import Axes3D"
   ]
  },
  {
   "cell_type": "code",
   "execution_count": null,
   "metadata": {},
   "outputs": [],
   "source": [
    "# Define parameters for the helix\n",
    "t = np.linspace(0, 4 * np.pi, 300)  # Time parameter\n",
    "radius = 1.0\n",
    "pitch = 0.15\n",
    "offset = np.pi\n",
    "\n",
    "# Parametric equations for two intertwined helices\n",
    "x1 = radius * np.cos(t)\n",
    "y1 = radius * np.sin(t)\n",
    "z1 = pitch * t - 0.9\n",
    "\n",
    "x2 = radius * np.cos(t + offset)\n",
    "y2 = radius * np.sin(t + offset)\n",
    "z2 = pitch * t - 0.9"
   ]
  },
  {
   "cell_type": "code",
   "execution_count": null,
   "metadata": {},
   "outputs": [],
   "source": [
    "## add little noise to the data\n",
    "def add_noise(data, scale=0.1):\n",
    "    return data + np.random.randn(*data.shape)*scale\n",
    "\n",
    "def normalize(data):\n",
    "    return (data-data.mean(axis=0, keepdims=True))/data.std(axis=0, keepdims=True)"
   ]
  },
  {
   "cell_type": "code",
   "execution_count": null,
   "metadata": {},
   "outputs": [],
   "source": [
    "# ! mkdir outputs/06_double_hellix_umap/"
   ]
  },
  {
   "cell_type": "code",
   "execution_count": null,
   "metadata": {},
   "outputs": [],
   "source": [
    "# Create a 3D scatter plot\n",
    "# %matplotlib tk\n",
    "%matplotlib inline\n",
    "\n",
    "fig = plt.figure(figsize=(6, 5))\n",
    "ax = fig.add_subplot(111, projection='3d')\n",
    "\n",
    "# Plot the points for the first helix\n",
    "ax.scatter(x1, y1, z1, marker='o', label='Helix 1')\n",
    "\n",
    "# Plot the points for the second helix\n",
    "ax.scatter(x2, y2, z2, marker='o', label='Helix 2')\n",
    "\n",
    "# Add labels and legend\n",
    "ax.set_xlabel('X-axis')\n",
    "ax.set_ylabel('Y-axis')\n",
    "ax.set_zlabel('Z-axis')\n",
    "ax.set_title('Double Helix 3D Scatter Plot')\n",
    "ax.legend()\n",
    "\n",
    "# Show the plot\n",
    "# plt.show()\n",
    "plt.savefig(\"./outputs/06_double_hellix_umap/helix_3d_scatter.pdf\", bbox_inches='tight')"
   ]
  },
  {
   "cell_type": "code",
   "execution_count": null,
   "metadata": {},
   "outputs": [],
   "source": [
    "import umap"
   ]
  },
  {
   "cell_type": "code",
   "execution_count": null,
   "metadata": {},
   "outputs": [],
   "source": [
    "# import umap.plot"
   ]
  },
  {
   "cell_type": "code",
   "execution_count": null,
   "metadata": {},
   "outputs": [],
   "source": [
    "xyz1 = np.vstack([x1, y1, z1]).T\n",
    "xyz2 = np.vstack([x2, y2, z2]).T\n",
    "xyz2.shape"
   ]
  },
  {
   "cell_type": "code",
   "execution_count": null,
   "metadata": {},
   "outputs": [],
   "source": [
    "xyz = np.concatenate([xyz1, xyz2], axis=0)\n",
    "xyz.shape"
   ]
  },
  {
   "cell_type": "code",
   "execution_count": null,
   "metadata": {},
   "outputs": [],
   "source": [
    "labels = np.concatenate([np.zeros(x1.shape), np.ones(x2.shape)])"
   ]
  },
  {
   "cell_type": "code",
   "execution_count": null,
   "metadata": {},
   "outputs": [],
   "source": [
    "import numba"
   ]
  },
  {
   "cell_type": "code",
   "execution_count": null,
   "metadata": {},
   "outputs": [],
   "source": [
    "@numba.njit()\n",
    "def dot_product(a,b): \n",
    "    return 1-np.dot(a,b)\n",
    "\n",
    "@numba.njit()\n",
    "def distance(a,b):\n",
    "    return np.linalg.norm(a-b, ord=2)\n",
    "\n",
    "@numba.njit()\n",
    "def angle(a, b):\n",
    "    norm_a = np.linalg.norm(a)\n",
    "    norm_b = np.linalg.norm(b)\n",
    "    return 1-np.dot(a, b)/(norm_a*norm_b)    \n",
    "    \n",
    "@numba.njit()\n",
    "def angle_partial(a, b):\n",
    "    norm_b = np.linalg.norm(b)\n",
    "    return 1-np.dot(a, b)/norm_b   "
   ]
  },
  {
   "cell_type": "code",
   "execution_count": null,
   "metadata": {},
   "outputs": [],
   "source": [
    "%matplotlib inline"
   ]
  },
  {
   "cell_type": "code",
   "execution_count": null,
   "metadata": {},
   "outputs": [],
   "source": [
    "mapper = umap.UMAP(metric=dot_product).fit(xyz)\n",
    "# umap.plot.points(mapper, labels=labels)\n",
    "tr = mapper.transform(xyz)"
   ]
  },
  {
   "cell_type": "code",
   "execution_count": null,
   "metadata": {},
   "outputs": [],
   "source": [
    "tr.shape"
   ]
  },
  {
   "cell_type": "code",
   "execution_count": null,
   "metadata": {},
   "outputs": [],
   "source": [
    "fig = plt.figure(figsize=(6, 5))\n",
    "mask = labels == 0\n",
    "plt.scatter(tr[:, 0][mask], tr[:, 1][mask], label=labels[mask], alpha=0.5, s=10)\n",
    "mask = ~mask\n",
    "plt.scatter(tr[:, 0][mask], tr[:, 1][mask], label=labels[mask], alpha=0.5, s=10)\n",
    "\n",
    "plt.tick_params(left = False, right = False , labelleft = False ,\n",
    "                labelbottom = False, bottom = False)\n",
    "\n",
    "plt.title('UMAP embedding with dot-product')\n",
    "# plt.show()\n",
    "plt.savefig(\"./outputs/06_double_hellix_umap/umap_dot_product.pdf\", bbox_inches='tight')"
   ]
  },
  {
   "cell_type": "code",
   "execution_count": null,
   "metadata": {},
   "outputs": [],
   "source": [
    "mapper = umap.UMAP(metric=angle).fit(xyz)\n",
    "# umap.plot.points(mapper, labels=labels)\n",
    "tr = mapper.transform(xyz)\n",
    "\n",
    "fig = plt.figure(figsize=(6, 5))\n",
    "mask = labels == 0\n",
    "plt.scatter(tr[:, 0][mask], tr[:, 1][mask], label=labels[mask], alpha=0.5, s=10)\n",
    "mask = ~mask\n",
    "plt.scatter(tr[:, 0][mask], tr[:, 1][mask], label=labels[mask], alpha=0.5, s=10)\n",
    "\n",
    "plt.tick_params(left = False, right = False , labelleft = False ,\n",
    "                labelbottom = False, bottom = False)\n",
    "\n",
    "# plt.show()\n",
    "plt.title('UMAP embedding with cosine-angle')\n",
    "plt.savefig(\"./outputs/06_double_hellix_umap/umap_cosine_angle.pdf\", bbox_inches='tight')"
   ]
  },
  {
   "cell_type": "code",
   "execution_count": null,
   "metadata": {},
   "outputs": [],
   "source": [
    "mapper = umap.UMAP(metric=distance).fit(xyz)\n",
    "# umap.plot.points(mapper, labels=labels)\n",
    "\n",
    "tr = mapper.transform(xyz)\n",
    "\n",
    "fig = plt.figure(figsize=(6, 5))\n",
    "mask = labels == 0\n",
    "plt.scatter(tr[:, 0][mask], tr[:, 1][mask], label=labels[mask], alpha=0.5, s=10)\n",
    "mask = ~mask\n",
    "plt.scatter(tr[:, 0][mask], tr[:, 1][mask], label=labels[mask], alpha=0.5, s=10)\n",
    "\n",
    "plt.tick_params(left = False, right = False , labelleft = False ,\n",
    "                labelbottom = False, bottom = False)\n",
    "\n",
    "# plt.show()\n",
    "plt.title('UMAP embedding with l2-distance')\n",
    "plt.savefig(\"./outputs/06_double_hellix_umap/umap_l2_distance.pdf\", bbox_inches='tight')"
   ]
  },
  {
   "cell_type": "code",
   "execution_count": null,
   "metadata": {},
   "outputs": [],
   "source": [
    "mapper = umap.UMAP(metric=angle_partial).fit(xyz)\n",
    "# umap.plot.points(mapper, labels=labels)\n",
    "\n",
    "tr = mapper.transform(xyz)\n",
    "\n",
    "fig = plt.figure(figsize=(6, 5))\n",
    "mask = labels == 0\n",
    "plt.scatter(tr[:, 0][mask], tr[:, 1][mask], label=labels[mask], alpha=0.5, s=10)\n",
    "mask = ~mask\n",
    "plt.scatter(tr[:, 0][mask], tr[:, 1][mask], label=labels[mask], alpha=0.5, s=10)\n",
    "\n",
    "plt.tick_params(left = False, right = False , labelleft = False ,\n",
    "                labelbottom = False, bottom = False)\n",
    "\n",
    "plt.show()"
   ]
  },
  {
   "cell_type": "code",
   "execution_count": null,
   "metadata": {},
   "outputs": [],
   "source": []
  }
 ],
 "metadata": {
  "kernelspec": {
   "display_name": "Python 3 (ipykernel)",
   "language": "python",
   "name": "python3"
  },
  "language_info": {
   "codemirror_mode": {
    "name": "ipython",
    "version": 3
   },
   "file_extension": ".py",
   "mimetype": "text/x-python",
   "name": "python",
   "nbconvert_exporter": "python",
   "pygments_lexer": "ipython3",
   "version": "3.11.9"
  }
 },
 "nbformat": 4,
 "nbformat_minor": 4
}
