{
 "cells": [
  {
   "cell_type": "code",
   "execution_count": null,
   "metadata": {},
   "outputs": [],
   "source": [
    "import numpy as np\n",
    "import torch\n",
    "import torch.nn as nn\n",
    "import torch.nn.functional as F"
   ]
  },
  {
   "cell_type": "code",
   "execution_count": null,
   "metadata": {},
   "outputs": [],
   "source": [
    "import matplotlib\n",
    "%matplotlib inline\n",
    "import matplotlib.pyplot as plt"
   ]
  },
  {
   "cell_type": "code",
   "execution_count": null,
   "metadata": {},
   "outputs": [],
   "source": [
    "import sys\n",
    "sys.path.append(\"./Input-Invex-Neural-Network/\")"
   ]
  },
  {
   "cell_type": "code",
   "execution_count": null,
   "metadata": {},
   "outputs": [],
   "source": [
    "from classes import ConvexNN\n",
    "from nflib.flows import SequentialFlow, NormalizingFlow, ActNorm\n",
    "import nflib.res_flow as irf\n",
    "import nflib"
   ]
  },
  {
   "cell_type": "code",
   "execution_count": null,
   "metadata": {},
   "outputs": [],
   "source": [
    "from classes import DistanceRegressor"
   ]
  },
  {
   "cell_type": "markdown",
   "metadata": {},
   "source": [
    "## 2D dataset -> Monotonic"
   ]
  },
  {
   "cell_type": "code",
   "execution_count": null,
   "metadata": {},
   "outputs": [],
   "source": [
    "from scipy.stats import multivariate_normal\n",
    "\n",
    "def gaussian(x1_mean, x2_mean, std, x1_grid, x2_grid, yscale):\n",
    "    rv = multivariate_normal([x1_mean, x2_mean], [[std, 0.], [0., std]])\n",
    "    data = np.dstack((x1_grid.reshape(-1), x2_grid.reshape(-1)))\n",
    "    z = rv.pdf(data)\n",
    "    z = z/z.max()*yscale\n",
    "    return z.reshape(x1_grid.shape)"
   ]
  },
  {
   "cell_type": "code",
   "execution_count": null,
   "metadata": {},
   "outputs": [],
   "source": [
    "num_points = 100\n",
    "X1 = np.linspace(-2.5, 1.9, num_points)\n",
    "# X1 = np.linspace(-2.5, 2.5, num_points)\n",
    "# X2 = np.linspace(-2.5, 3, num_points)\n",
    "X2 = np.linspace(-2.2, 2.9, num_points)\n",
    "X1, X2 = np.meshgrid(X1, X2)\n",
    "# Y = np.sin(np.sqrt(X1**2 + X2**2))*2-1. - 0.1*(X1)+0.02*(X2)\n",
    "Y = -X1*0.5 + X2\n",
    "Y = np.sin(Y*1.3 + 0.5)*0.5+Y\n",
    "Y += gaussian(0, 0.5, 0.5, X1, X2, 0.5)\n",
    "Y -= gaussian(-0.75, 1.0, 1, X1, X2, 0.1)\n",
    "Y += gaussian(0.75, 1.0, 1.2, X1, X2, 0.75)\n",
    "Y -= gaussian(1.0, 1.5, 0.4, X1, X2, 1.0)\n",
    "Y -= gaussian(-0.25, -0.75, 0.4, X1, X2, 1.3)\n",
    "\n",
    "\n",
    "\n",
    "\n",
    "####Scaling the data to range -1,1\n",
    "X1 = 2*(X1 - X1.min())/(X1.max() - X1.min()) -1\n",
    "X2 = 2*(X2 - X2.min())/(X2.max() - X2.min()) -1\n",
    "Y = 2*(Y - Y.min())/(Y.max() - Y.min()) -1\n",
    "Y = -Y/2\n",
    "\n",
    "x1 = X1.reshape(-1)\n",
    "x2 = X2.reshape(-1)\n",
    "\n",
    "xx = torch.Tensor(np.c_[x1, x2])\n",
    "yy = torch.Tensor(Y.reshape(-1,1))\n",
    "\n",
    "# %matplotlib tk\n",
    "# ax = plt.figure(figsize=(8,6)).add_subplot(projection='3d')\n",
    "# ax.plot_surface(X1, X2, Y, cmap='plasma')\n",
    "# ax.set_xlabel('X1')\n",
    "# ax.set_ylabel('X2')\n",
    "# ax.set_zlabel('Y')\n",
    "# plt.show()\n",
    "\n",
    "LVLs = 50\n",
    "plt.figure(figsize=(8,8))\n",
    "plt.contourf(X1, X2, Y, levels=LVLs)\n",
    "cs = plt.contour(X1, X2, Y, levels=LVLs, linestyles=\"None\", colors=\"k\", linewidths=1)"
   ]
  },
  {
   "cell_type": "code",
   "execution_count": null,
   "metadata": {},
   "outputs": [],
   "source": [
    "LVLs = 20\n",
    "plt.figure(figsize=(6,5))\n",
    "plt.contourf(X1, X2, Y, levels=LVLs)\n",
    "cs = plt.contour(X1, X2, Y, levels=LVLs, linestyles=\"None\", colors=\"k\", linewidths=1)\n",
    "plt.clabel(cs, cs.levels, inline=True, fontsize=10, fmt=\"%1.2f\")\n",
    "\n",
    "plt.tick_params(left = False, right = False , labelleft = False ,\n",
    "                labelbottom = False, bottom = False)\n",
    "plt.savefig(\"./outputs/05_locality_contour_viz/invex_contour_global.pdf\", bbox_inches='tight')"
   ]
  },
  {
   "cell_type": "code",
   "execution_count": null,
   "metadata": {},
   "outputs": [],
   "source": [
    "# ! mkdir outputs/05_locality_contour_viz"
   ]
  },
  {
   "cell_type": "markdown",
   "metadata": {},
   "source": [
    "# Convex NN"
   ]
  },
  {
   "cell_type": "code",
   "execution_count": null,
   "metadata": {},
   "outputs": [],
   "source": [
    "EPOCHS = 5000\n",
    "# actf = nn.LeakyReLU\n",
    "actf = nn.ELU\n",
    "learning_rate = 0.005\n",
    "criterion = nn.MSELoss()"
   ]
  },
  {
   "cell_type": "code",
   "execution_count": null,
   "metadata": {},
   "outputs": [],
   "source": [
    "cvxNet = ConvexNN([2, 15, 15, 1], actf)\n",
    "optimizer = torch.optim.Adam(cvxNet.parameters(), lr=learning_rate)"
   ]
  },
  {
   "cell_type": "code",
   "execution_count": null,
   "metadata": {},
   "outputs": [],
   "source": [
    "# %matplotlib notebook\n",
    "# %matplotlib tk\n",
    "%matplotlib inline\n",
    "\n",
    "fig = plt.figure(figsize=(10,4))\n",
    "ax = fig.add_subplot(121, projection='3d')\n",
    "ax2 = fig.add_subplot(122)\n",
    "\n",
    "for epoch in range(EPOCHS):\n",
    "\n",
    "    yout = cvxNet(xx)    \n",
    "    loss = criterion(yout, yy)\n",
    "    optimizer.zero_grad()\n",
    "    loss.backward()\n",
    "    optimizer.step()\n",
    "\n",
    "    if epoch%100 == 0 or epoch==EPOCHS-1:\n",
    "        print(f'Epoch: {epoch}, Loss:{float(loss)}')\n",
    "        ax.clear()\n",
    "        ax.scatter(X1, X2, yy.data.numpy().reshape(Y.shape), marker= '.')\n",
    "        ax.scatter(X1, X2, yout.data.numpy().reshape(Y.shape), color='r', marker='.')\n",
    "        ax2.clear()\n",
    "        ax2.contourf(X1, X2, yout.data.numpy().reshape(Y.shape), levels=20)\n",
    "\n",
    "        fig.canvas.draw()\n",
    "        plt.pause(0.01)\n",
    "plt.close()"
   ]
  },
  {
   "cell_type": "code",
   "execution_count": null,
   "metadata": {},
   "outputs": [],
   "source": [
    "# %matplotlib inline\n",
    "\n",
    "# y_ = yout.data.cpu().numpy().reshape(Y.shape)\n",
    "\n",
    "# fig = plt.figure(figsize=(8,6))\n",
    "# ax = fig.gca(projection='3d')\n",
    "# ax.view_init(49, -71)\n",
    "# ax.plot_surface(X1, X2, y_, cmap='plasma', alpha=0.9)\n",
    "# ax.set_xlabel('X1')\n",
    "# ax.set_ylabel('X2')\n",
    "# ax.set_zlabel('Y')\n",
    "# # plt.pause(0.1)\n",
    "# plt.show()"
   ]
  },
  {
   "cell_type": "code",
   "execution_count": null,
   "metadata": {},
   "outputs": [],
   "source": [
    "# LVLs = np.linspace(sim.min(), sim.max(), 20)\n",
    "%matplotlib inline\n",
    "LVLs = 20\n",
    "\n",
    "y_ = cvxNet(xx).data.cpu().numpy().reshape(Y.shape)\n",
    "\n",
    "plt.figure(figsize=(6,5))\n",
    "plt.contourf(X1, X2, y_, levels=LVLs)\n",
    "cs = plt.contour(X1, X2, y_, levels=LVLs, linestyles=\"None\", colors=\"k\", linewidths=1)\n",
    "plt.clabel(cs, cs.levels, inline=True, fontsize=10, fmt=\"%1.2f\")\n",
    "# minima = xx[y_.argmin()]\n",
    "# plt.scatter(*minima.tolist(), s=100, edgecolors=\"red\")\n",
    "\n",
    "plt.tick_params(left = False, right = False , labelleft = False ,\n",
    "                labelbottom = False, bottom = False)\n",
    "plt.savefig(\"./outputs/05_locality_contour_viz/convex_contour_global.pdf\", bbox_inches='tight')"
   ]
  },
  {
   "cell_type": "markdown",
   "metadata": {},
   "source": [
    "## 2D dataset -> Local"
   ]
  },
  {
   "cell_type": "code",
   "execution_count": null,
   "metadata": {},
   "outputs": [],
   "source": [
    "num_points = 100\n",
    "X1 = np.linspace(-2.5, 1.9, num_points)\n",
    "# X1 = np.linspace(-2.5, 2.5, num_points)\n",
    "# X2 = np.linspace(-2.5, 3, num_points)\n",
    "X2 = np.linspace(-2.2, 2.1, num_points)\n",
    "X1, X2 = np.meshgrid(X1, X2)\n",
    "Y = np.sin(np.sqrt(X1**2 + X2**2))*2-1. - 0.1*(X1)+0.02*(X2)\n",
    "\n",
    "####Scaling the data to range -1,1\n",
    "X1 = 2*(X1 - X1.min())/(X1.max() - X1.min()) -1\n",
    "X2 = 2*(X2 - X2.min())/(X2.max() - X2.min()) -1\n",
    "Y = 2*(Y - Y.min())/(Y.max() - Y.min()) -1\n",
    "Y = Y/2\n",
    "\n",
    "x1 = X1.reshape(-1)\n",
    "x2 = X2.reshape(-1)\n",
    "\n",
    "xx = torch.Tensor(np.c_[x1, x2])\n",
    "yy = torch.Tensor(Y.reshape(-1,1))\n"
   ]
  },
  {
   "cell_type": "code",
   "execution_count": null,
   "metadata": {},
   "outputs": [],
   "source": [
    "# %matplotlib tk\n",
    "ax = plt.figure(figsize=(8,6)).add_subplot(projection='3d')\n",
    "ax.plot_surface(X1, X2, Y, cmap='plasma')\n",
    "ax.set_xlabel('X1')\n",
    "ax.set_ylabel('X2')\n",
    "ax.set_zlabel('Y')\n",
    "plt.show()"
   ]
  },
  {
   "cell_type": "markdown",
   "metadata": {},
   "source": [
    "# Convex NN"
   ]
  },
  {
   "cell_type": "code",
   "execution_count": null,
   "metadata": {},
   "outputs": [],
   "source": [
    "EPOCHS = 5000\n",
    "# actf = nn.LeakyReLU\n",
    "actf = nn.ELU\n",
    "learning_rate = 0.005\n",
    "criterion = nn.MSELoss()"
   ]
  },
  {
   "cell_type": "code",
   "execution_count": null,
   "metadata": {},
   "outputs": [],
   "source": [
    "cvxNet = ConvexNN([2, 15, 15, 1], actf)\n",
    "optimizer = torch.optim.Adam(cvxNet.parameters(), lr=learning_rate)"
   ]
  },
  {
   "cell_type": "code",
   "execution_count": null,
   "metadata": {},
   "outputs": [],
   "source": [
    "%matplotlib inline\n",
    "fig = plt.figure(figsize=(15,6))\n",
    "ax = fig.add_subplot(121, projection='3d')\n",
    "ax2 = fig.add_subplot(122)\n",
    "\n",
    "for epoch in range(EPOCHS):\n",
    "\n",
    "    yout = -cvxNet(xx)    \n",
    "    loss = criterion(yout, yy)\n",
    "    optimizer.zero_grad()\n",
    "    loss.backward()\n",
    "    optimizer.step()\n",
    "\n",
    "    if epoch%100 == 0 or epoch==EPOCHS-1:\n",
    "        print(f'Epoch: {epoch}, Loss:{float(loss)}')\n",
    "        ax.clear()\n",
    "        ax.scatter(X1, X2, yy.data.numpy().reshape(Y.shape), marker= '.')\n",
    "        ax.scatter(X1, X2, yout.data.numpy().reshape(Y.shape), color='r', marker='.')\n",
    "        ax2.clear()\n",
    "        ax2.contourf(X1, X2, yout.data.numpy().reshape(Y.shape), levels=20)\n",
    "\n",
    "        fig.canvas.draw()\n",
    "        plt.pause(0.01)\n",
    "plt.close()"
   ]
  },
  {
   "cell_type": "code",
   "execution_count": null,
   "metadata": {},
   "outputs": [],
   "source": [
    "# %matplotlib inline\n",
    "\n",
    "# y_ = yout.data.cpu().numpy().reshape(Y.shape)\n",
    "\n",
    "# fig = plt.figure(figsize=(8,6))\n",
    "# ax = fig.gca(projection='3d')\n",
    "# ax.view_init(49, -71)\n",
    "# ax.plot_surface(X1, X2, y_, cmap='plasma', alpha=0.9)\n",
    "# ax.set_xlabel('X1')\n",
    "# ax.set_ylabel('X2')\n",
    "# ax.set_zlabel('Y')\n",
    "# # plt.pause(0.1)\n",
    "# plt.show()"
   ]
  },
  {
   "cell_type": "code",
   "execution_count": null,
   "metadata": {},
   "outputs": [],
   "source": [
    "# LVLs = np.linspace(sim.min(), sim.max(), 20)\n",
    "LVLs = 20\n",
    "\n",
    "y_ = cvxNet(xx*1.1).data.cpu().numpy().reshape(Y.shape)\n",
    "\n",
    "plt.figure(figsize=(6,5))\n",
    "plt.contourf(X1, X2, y_, levels=LVLs)\n",
    "cs = plt.contour(X1, X2, y_, levels=LVLs, linestyles=\"None\", colors=\"k\", linewidths=1)\n",
    "plt.clabel(cs, cs.levels[1::2], inline=True, fontsize=8, fmt=\"%1.2f\", colors='k')\n",
    "minima = xx[y_.argmin()]\n",
    "plt.scatter(*minima.tolist(), s=50, edgecolors=\"red\")\n",
    "\n",
    "plt.tick_params(left = False, right = False , labelleft = False ,\n",
    "                labelbottom = False, bottom = False)\n",
    "plt.savefig(\"./outputs/05_locality_contour_viz/convex_contour_local.pdf\", bbox_inches='tight')"
   ]
  },
  {
   "cell_type": "markdown",
   "metadata": {},
   "source": [
    "## Invex NN"
   ]
  },
  {
   "cell_type": "code",
   "execution_count": null,
   "metadata": {},
   "outputs": [],
   "source": [
    "class DistanceRegressor(nn.Module):\n",
    "    def __init__(self, input_dim, inv_temp=1):\n",
    "        super().__init__()\n",
    "        self.centers = nn.Parameter(torch.rand(1, input_dim)*2-1)\n",
    "        self.bias = nn.Parameter(torch.ones(1)*-0.5)\n",
    "        self.inv_temp = nn.Parameter(torch.ones(1)*inv_temp)\n",
    "\n",
    "        \n",
    "    def forward(self, x):\n",
    "        x = torch.norm(x-self.centers, dim=-1, keepdim=True)\n",
    "#         x = -x*self.inv_temp + self.bias\n",
    "        x = x*self.inv_temp + self.bias\n",
    "        return x"
   ]
  },
  {
   "cell_type": "code",
   "execution_count": null,
   "metadata": {},
   "outputs": [],
   "source": [
    "EPOCHS = 5000\n",
    "learning_rate = 0.005\n",
    "criterion = nn.MSELoss()"
   ]
  },
  {
   "cell_type": "code",
   "execution_count": null,
   "metadata": {},
   "outputs": [],
   "source": [
    "cvxNet = nn.Sequential(\n",
    "    ActNorm(2),\n",
    "    irf.ResidualFlow(2, [15], activation=nflib.res_flow.Swish),\n",
    "    ActNorm(2),\n",
    "    DistanceRegressor(2),\n",
    ")\n",
    "\n",
    "optimizer = torch.optim.Adam(cvxNet.parameters(), lr=learning_rate)"
   ]
  },
  {
   "cell_type": "code",
   "execution_count": null,
   "metadata": {},
   "outputs": [],
   "source": [
    "%matplotlib inline\n",
    "fig = plt.figure(figsize=(15,6))\n",
    "ax = fig.add_subplot(121, projection='3d')\n",
    "ax2 = fig.add_subplot(122)\n",
    "\n",
    "for epoch in range(EPOCHS):\n",
    "\n",
    "    yout = -cvxNet(xx)    \n",
    "    loss = criterion(yout, yy)\n",
    "    optimizer.zero_grad()\n",
    "    loss.backward()\n",
    "    optimizer.step()\n",
    "\n",
    "    if epoch%100 == 0 or epoch==EPOCHS-1:\n",
    "        print(f'Epoch: {epoch}, Loss:{float(loss)}')\n",
    "        ax.clear()\n",
    "        ax.scatter(X1, X2, yy.data.numpy().reshape(Y.shape), marker= '.')\n",
    "        ax.scatter(X1, X2, yout.data.numpy().reshape(Y.shape), color='r', marker='.')\n",
    "        ax2.clear()\n",
    "        ax2.contourf(X1, X2, yout.data.numpy().reshape(Y.shape), levels=20)\n",
    "\n",
    "        fig.canvas.draw()\n",
    "        plt.pause(0.01)\n",
    "plt.close()"
   ]
  },
  {
   "cell_type": "code",
   "execution_count": null,
   "metadata": {},
   "outputs": [],
   "source": [
    "# %matplotlib inline\n",
    "\n",
    "# y_ = yout.data.cpu().numpy().reshape(Y.shape)\n",
    "\n",
    "# fig = plt.figure(figsize=(8,6))\n",
    "# ax = fig.gca(projection='3d')\n",
    "# ax.view_init(49, -71)\n",
    "# ax.plot_surface(X1, X2, y_, cmap='plasma', alpha=0.9)\n",
    "# ax.set_xlabel('X1')\n",
    "# ax.set_ylabel('X2')\n",
    "# ax.set_zlabel('Y')\n",
    "# # plt.pause(0.1)\n",
    "# plt.show()"
   ]
  },
  {
   "cell_type": "code",
   "execution_count": null,
   "metadata": {},
   "outputs": [],
   "source": [
    "LVLs = 20\n",
    "\n",
    "y_ = cvxNet(xx).data.cpu().numpy().reshape(Y.shape)\n",
    "\n",
    "plt.figure(figsize=(6,5))\n",
    "plt.contourf(X1, X2, y_, levels=LVLs)\n",
    "cs = plt.contour(X1, X2, y_, levels=LVLs, linestyles=\"None\", colors=\"k\", linewidths=1)\n",
    "plt.clabel(cs, cs.levels[1::2], inline=True, fontsize=8, fmt=\"%1.2f\")\n",
    "minima = xx[y_.argmin()]\n",
    "plt.scatter(*minima.tolist(), s=50, edgecolors=\"red\")\n",
    "\n",
    "plt.tick_params(left = False, right = False , labelleft = False ,\n",
    "                labelbottom = False, bottom = False)\n",
    "plt.savefig(\"./outputs/05_locality_contour_viz/invex_contour_local.pdf\", bbox_inches='tight')"
   ]
  },
  {
   "cell_type": "code",
   "execution_count": null,
   "metadata": {},
   "outputs": [],
   "source": []
  },
  {
   "cell_type": "markdown",
   "metadata": {},
   "source": [
    "## Linear and Radial"
   ]
  },
  {
   "cell_type": "code",
   "execution_count": null,
   "metadata": {},
   "outputs": [],
   "source": [
    "linear = nn.Linear(2, 1)\n",
    "y = linear(xx).data.numpy().reshape(Y.shape)\n",
    "\n",
    "LVLs = 20\n",
    "plt.figure(figsize=(6,5))\n",
    "plt.contourf(X1, X2, y, levels=LVLs)\n",
    "cs = plt.contour(X1, X2, y, levels=LVLs, linestyles=\"None\", colors=\"k\", linewidths=1)\n",
    "plt.clabel(cs, cs.levels, inline=True, fontsize=10, fmt=\"%1.2f\")\n",
    "\n",
    "plt.tick_params(left = False, right = False , labelleft = False ,\n",
    "                labelbottom = False, bottom = False)\n",
    "plt.savefig(\"./outputs/05_locality_contour_viz/linear_contour.pdf\", bbox_inches='tight')"
   ]
  },
  {
   "cell_type": "code",
   "execution_count": null,
   "metadata": {},
   "outputs": [],
   "source": [
    "radial = DistanceRegressor(2, 1)\n",
    "y = radial(xx).data.numpy().reshape(Y.shape)\n",
    "\n",
    "LVLs = 20\n",
    "plt.figure(figsize=(6,5))\n",
    "plt.contourf(X1, X2, y, levels=LVLs)\n",
    "cs = plt.contour(X1, X2, y, levels=LVLs, linestyles=\"None\", colors=\"k\", linewidths=1)\n",
    "plt.clabel(cs, cs.levels, inline=True, fontsize=10, fmt=\"%1.2f\")\n",
    "\n",
    "plt.tick_params(left = False, right = False , labelleft = False ,\n",
    "                labelbottom = False, bottom = False)\n",
    "plt.savefig(\"./outputs/05_locality_contour_viz/radial_contour.pdf\", bbox_inches='tight')"
   ]
  },
  {
   "cell_type": "code",
   "execution_count": null,
   "metadata": {},
   "outputs": [],
   "source": []
  },
  {
   "cell_type": "code",
   "execution_count": null,
   "metadata": {},
   "outputs": [],
   "source": []
  }
 ],
 "metadata": {
  "kernelspec": {
   "display_name": "Python 3 (ipykernel)",
   "language": "python",
   "name": "python3"
  },
  "language_info": {
   "codemirror_mode": {
    "name": "ipython",
    "version": 3
   },
   "file_extension": ".py",
   "mimetype": "text/x-python",
   "name": "python",
   "nbconvert_exporter": "python",
   "pygments_lexer": "ipython3",
   "version": "3.11.9"
  }
 },
 "nbformat": 4,
 "nbformat_minor": 4
}
