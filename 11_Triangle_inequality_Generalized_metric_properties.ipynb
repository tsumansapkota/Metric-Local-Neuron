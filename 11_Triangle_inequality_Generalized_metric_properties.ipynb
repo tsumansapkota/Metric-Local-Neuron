{
 "cells": [
  {
   "cell_type": "code",
   "execution_count": null,
   "metadata": {},
   "outputs": [],
   "source": [
    "import numpy as np\n",
    "import torch\n",
    "import torch.nn as nn\n",
    "import torch.nn.functional as F"
   ]
  },
  {
   "cell_type": "code",
   "execution_count": null,
   "metadata": {},
   "outputs": [],
   "source": [
    "import matplotlib\n",
    "# matplotlib.use(\"TkAgg\")\n",
    "%matplotlib inline\n",
    "import matplotlib.pyplot as plt"
   ]
  },
  {
   "cell_type": "markdown",
   "metadata": {},
   "source": [
    "## 2D dataset"
   ]
  },
  {
   "cell_type": "code",
   "execution_count": null,
   "metadata": {},
   "outputs": [],
   "source": [
    "num_points = 100\n",
    "X1 = np.linspace(-2.5, 1.9, num_points)\n",
    "X2 = np.linspace(-2.2, 2.1, num_points)\n",
    "X1, X2 = np.meshgrid(X1, X2)\n",
    "Y = np.sin(np.sqrt(X1**2 + X2**2))*2-1. - 0.1*(X1)+0.02*(X2)\n",
    "\n",
    "####Scaling the data to range -1,1\n",
    "X1 = 2*(X1 - X1.min())/(X1.max() - X1.min()) -1\n",
    "X2 = 2*(X2 - X2.min())/(X2.max() - X2.min()) -1\n",
    "Y = 2*(Y - Y.min())/(Y.max() - Y.min()) -1\n",
    "Y = Y/2\n",
    "\n",
    "x1 = X1.reshape(-1)\n",
    "x2 = X2.reshape(-1)\n",
    "\n",
    "xx = torch.Tensor(np.c_[x1, x2])\n",
    "yy = torch.Tensor(Y.reshape(-1,1))\n"
   ]
  },
  {
   "cell_type": "code",
   "execution_count": null,
   "metadata": {},
   "outputs": [],
   "source": [
    "# %matplotlib tk\n",
    "fig = plt.figure()\n",
    "ax = fig.add_subplot(projection = '3d')\n",
    "ax.plot_surface(X1, X2, Y, cmap='plasma')\n",
    "ax.set_xlabel('X1')\n",
    "ax.set_ylabel('X2')\n",
    "ax.set_zlabel('Y')\n",
    "plt.show()"
   ]
  },
  {
   "cell_type": "code",
   "execution_count": null,
   "metadata": {},
   "outputs": [],
   "source": [
    "import sys\n",
    "sys.path.append(\"./Input-Invex-Neural-Network/\")"
   ]
  },
  {
   "cell_type": "code",
   "execution_count": null,
   "metadata": {},
   "outputs": [],
   "source": [
    "from classes import ConvexNN"
   ]
  },
  {
   "cell_type": "code",
   "execution_count": null,
   "metadata": {},
   "outputs": [],
   "source": [
    "from nflib.flows import SequentialFlow, NormalizingFlow, ActNorm\n",
    "import nflib.res_flow as irf\n",
    "import nflib"
   ]
  },
  {
   "cell_type": "code",
   "execution_count": null,
   "metadata": {},
   "outputs": [],
   "source": [
    "class DistanceRegressor(nn.Module):\n",
    "    def __init__(self, input_dim, inv_temp=1):\n",
    "        super().__init__()\n",
    "        self.centers = nn.Parameter(torch.rand(1, input_dim)*2-1)\n",
    "        self.bias = nn.Parameter(torch.ones(1)*-0.5)\n",
    "        self.inv_temp = nn.Parameter(torch.ones(1)*inv_temp)\n",
    "\n",
    "        \n",
    "    def forward(self, x):\n",
    "        x = torch.norm(x-self.centers, dim=-1, keepdim=True)\n",
    "        x = torch.nn.functional.softplus(x-0.1, beta=5)\n",
    "#         x = -x*self.inv_temp + self.bias\n",
    "        x = x*self.inv_temp + self.bias\n",
    "        return x"
   ]
  },
  {
   "cell_type": "code",
   "execution_count": null,
   "metadata": {},
   "outputs": [],
   "source": [
    "EPOCHS = 1000\n",
    "# actf = nn.LeakyReLU\n",
    "# actf = nn.ELU\n",
    "learning_rate = 0.005\n",
    "criterion = nn.MSELoss()"
   ]
  },
  {
   "cell_type": "markdown",
   "metadata": {},
   "source": [
    "# Invex NN"
   ]
  },
  {
   "cell_type": "code",
   "execution_count": null,
   "metadata": {},
   "outputs": [],
   "source": [
    "# cvxNet = ConvexNN([2, 10, 10, 1], actf)\n",
    "\n",
    "cvxNet = nn.Sequential(\n",
    "    nn.BatchNorm1d(2),\n",
    "    irf.ResidualFlow(2, [10, 15]),\n",
    "    nn.BatchNorm1d(2),\n",
    "    DistanceRegressor(2),\n",
    ")\n",
    "\n",
    "optimizer = torch.optim.Adam(cvxNet.parameters(), lr=learning_rate)"
   ]
  },
  {
   "cell_type": "code",
   "execution_count": null,
   "metadata": {},
   "outputs": [],
   "source": [
    "%matplotlib inline\n",
    "fig = plt.figure(figsize=(15,6))\n",
    "ax = fig.add_subplot(121, projection='3d')\n",
    "ax2 = fig.add_subplot(122)\n",
    "\n",
    "for epoch in range(EPOCHS):\n",
    "\n",
    "    yout = -cvxNet(xx)    \n",
    "    loss = criterion(yout, yy)\n",
    "    optimizer.zero_grad()\n",
    "    loss.backward()\n",
    "    optimizer.step()\n",
    "\n",
    "    if epoch%100 == 0 or epoch==EPOCHS-1:\n",
    "        print(f'Epoch: {epoch}, Loss:{float(loss)}')\n",
    "        ax.clear()\n",
    "        ax.scatter(X1, X2, yy.data.numpy().reshape(Y.shape), marker= '.')\n",
    "        ax.scatter(X1, X2, yout.data.numpy().reshape(Y.shape), color='r', marker='.')\n",
    "        ax2.clear()\n",
    "        ax2.contourf(X1, X2, yout.data.numpy().reshape(Y.shape), levels=20)\n",
    "\n",
    "        fig.canvas.draw()\n",
    "        plt.pause(0.01)\n",
    "plt.close()"
   ]
  },
  {
   "cell_type": "code",
   "execution_count": null,
   "metadata": {},
   "outputs": [],
   "source": [
    "%matplotlib inline\n",
    "\n",
    "y_ = yout.data.cpu().numpy().reshape(Y.shape)\n",
    "\n",
    "fig = plt.figure(figsize=(8,6))\n",
    "ax = fig.add_subplot(projection = '3d')\n",
    "ax.view_init(49, -71)\n",
    "ax.plot_surface(X1, X2, y_, cmap='plasma', alpha=0.9)\n",
    "ax.set_xlabel('X1')\n",
    "ax.set_ylabel('X2')\n",
    "ax.set_zlabel('Y')\n",
    "# plt.pause(0.1)\n",
    "plt.show()"
   ]
  },
  {
   "cell_type": "markdown",
   "metadata": {},
   "source": [
    "## Plotting Contour Plot"
   ]
  },
  {
   "cell_type": "code",
   "execution_count": null,
   "metadata": {},
   "outputs": [],
   "source": [
    "LVLs = 20\n",
    "\n",
    "y_ = cvxNet(xx).data.cpu().numpy().reshape(Y.shape)\n",
    "\n",
    "plt.figure(figsize=(8,8))\n",
    "plt.contourf(X1, X2, y_, levels=LVLs)\n",
    "cs = plt.contour(X1, X2, y_, levels=LVLs, linestyles=\"None\", colors=\"k\", linewidths=1)\n",
    "plt.clabel(cs, cs.levels, inline=True, fontsize=10, fmt=\"%1.2f\")\n",
    "minima = xx[y_.argmin()]\n",
    "plt.scatter(*minima.tolist(), s=100, edgecolors=\"red\")"
   ]
  },
  {
   "cell_type": "code",
   "execution_count": null,
   "metadata": {},
   "outputs": [],
   "source": [
    "min_val = y_.min()\n",
    "min_val"
   ]
  },
  {
   "cell_type": "code",
   "execution_count": null,
   "metadata": {},
   "outputs": [],
   "source": [
    "minima = xx[None, y_.argmin()]\n",
    "minima"
   ]
  },
  {
   "cell_type": "code",
   "execution_count": null,
   "metadata": {},
   "outputs": [],
   "source": [
    "# minima[0, 0] = minima[0, 0] + 0.25\n",
    "# minima[0, 1] = minima[0, 1] - 0.1"
   ]
  },
  {
   "cell_type": "markdown",
   "metadata": {},
   "source": [
    "## Finding Mimima by using gradient descent"
   ]
  },
  {
   "cell_type": "code",
   "execution_count": null,
   "metadata": {},
   "outputs": [],
   "source": [
    "xmin = minima.clone()\n",
    "xmin = torch.autograd.Variable(xmin, requires_grad=True)\n",
    "xmin"
   ]
  },
  {
   "cell_type": "code",
   "execution_count": null,
   "metadata": {},
   "outputs": [],
   "source": [
    "optim = torch.optim.Adam([xmin], lr=0.001)\n",
    "STEPS = 4000\n",
    "scheduler = torch.optim.lr_scheduler.CosineAnnealingLR(optim, T_max=STEPS)"
   ]
  },
  {
   "cell_type": "code",
   "execution_count": null,
   "metadata": {},
   "outputs": [],
   "source": [
    "cvxNet.eval()"
   ]
  },
  {
   "cell_type": "markdown",
   "metadata": {},
   "source": [
    "### Search Loop"
   ]
  },
  {
   "cell_type": "code",
   "execution_count": null,
   "metadata": {},
   "outputs": [],
   "source": [
    "for step in range(STEPS):\n",
    "    optimizer.zero_grad() \n",
    "\n",
    "    ymin = cvxNet(xmin)\n",
    "    xgrad = torch.autograd.grad(outputs=ymin, inputs=xmin, grad_outputs=torch.ones_like(ymin), \n",
    "                            only_inputs=True, retain_graph=True, create_graph=True)[0]\n",
    "    xmin.grad = xgrad\n",
    "    \n",
    "    optim.step()\n",
    "    scheduler.step()\n",
    "    \n",
    "    if step%100 == 0:\n",
    "        print(f\"STEPS: {step}, xmin: {xmin.data}, min_value: {ymin.data}\")"
   ]
  },
  {
   "cell_type": "code",
   "execution_count": null,
   "metadata": {},
   "outputs": [],
   "source": [
    "xgrad"
   ]
  },
  {
   "cell_type": "code",
   "execution_count": null,
   "metadata": {},
   "outputs": [],
   "source": [
    "# LVLs = np.linspace(sim.min(), sim.max(), 20)\n",
    "LVLs = 20\n",
    "\n",
    "y_ = cvxNet(xx).data.cpu().numpy().reshape(Y.shape)\n",
    "\n",
    "plt.figure(figsize=(8,8))\n",
    "plt.contourf(X1, X2, y_, levels=LVLs)\n",
    "cs = plt.contour(X1, X2, y_, levels=LVLs, linestyles=\"None\", colors=\"k\", linewidths=1)\n",
    "plt.clabel(cs, cs.levels, inline=True, fontsize=10, fmt=\"%1.2f\")\n",
    "minima = xx[y_.argmin()]\n",
    "plt.scatter(*minima.tolist(), s=100, edgecolors=\"red\")\n",
    "plt.scatter(*xmin.data[0].tolist(), s=100, edgecolors=\"white\")"
   ]
  },
  {
   "cell_type": "code",
   "execution_count": null,
   "metadata": {},
   "outputs": [],
   "source": [
    "minima = xmin.data\n",
    "min_val = cvxNet(xmin).data[0].item()\n",
    "minima, min_val"
   ]
  },
  {
   "cell_type": "markdown",
   "metadata": {},
   "source": [
    "## Zero-Level Invex Function for refrence"
   ]
  },
  {
   "cell_type": "code",
   "execution_count": null,
   "metadata": {},
   "outputs": [],
   "source": [
    "# y_ = cvxNet(xx + minima).data.cpu().numpy().reshape(Y.shape)- min_val\n",
    "y_ = cvxNet(xx).data.cpu().numpy().reshape(Y.shape) - min_val\n",
    "\n",
    "LVLs = 50\n",
    "plt.figure(figsize=(6,6))\n",
    "plt.contourf(X1, X2, y_, levels=LVLs)\n",
    "cs = plt.contour(X1, X2, y_, levels=LVLs, linestyles=\"None\", colors=\"k\", linewidths=1)\n",
    "plt.clabel(cs, cs.levels[:15], inline=True, fontsize=10, fmt=\"%1.2f\")\n",
    "plt.scatter(*minima[0].tolist(), s=100, edgecolors=\"red\")"
   ]
  },
  {
   "cell_type": "markdown",
   "metadata": {},
   "source": [
    "### Extracting the Exact Contour "
   ]
  },
  {
   "cell_type": "code",
   "execution_count": null,
   "metadata": {},
   "outputs": [],
   "source": [
    "cvxNet.eval()"
   ]
  },
  {
   "cell_type": "code",
   "execution_count": null,
   "metadata": {},
   "outputs": [],
   "source": [
    "# contour_levels = []"
   ]
  },
  {
   "cell_type": "code",
   "execution_count": null,
   "metadata": {},
   "outputs": [],
   "source": [
    "xx.shape"
   ]
  },
  {
   "cell_type": "code",
   "execution_count": null,
   "metadata": {},
   "outputs": [],
   "source": [
    "level = 0.30 # 0.65, 0.25\n",
    "xx_norm = torch.norm(xx, dim=1, keepdim=True)\n",
    "xx_ = xx/xx_norm * level"
   ]
  },
  {
   "cell_type": "code",
   "execution_count": null,
   "metadata": {},
   "outputs": [],
   "source": [
    "xx_lnorm = torch.ones_like(xx_norm)*0.5\n",
    "xx_lnorm = torch.autograd.Variable(xx_lnorm, requires_grad=True)\n",
    "xx_lnorm"
   ]
  },
  {
   "cell_type": "code",
   "execution_count": null,
   "metadata": {},
   "outputs": [],
   "source": [
    "optimizer = torch.optim.Adam([xx_lnorm], lr=0.03)\n",
    "STEPS = 4000\n",
    "scheduler = torch.optim.lr_scheduler.CosineAnnealingLR(optimizer, T_max=STEPS)"
   ]
  },
  {
   "cell_type": "code",
   "execution_count": null,
   "metadata": {},
   "outputs": [],
   "source": [
    "minima"
   ]
  },
  {
   "cell_type": "markdown",
   "metadata": {},
   "source": [
    "### Training Loop"
   ]
  },
  {
   "cell_type": "code",
   "execution_count": null,
   "metadata": {},
   "outputs": [],
   "source": [
    "for step in range(STEPS):\n",
    "    optimizer.zero_grad() \n",
    "\n",
    "    yy_ = torch.abs(cvxNet(xx_*xx_lnorm + minima) - min_val - level)\n",
    "    xgrad = torch.autograd.grad(outputs=yy_, inputs=xx_lnorm, grad_outputs=torch.ones_like(yy_), \n",
    "                            only_inputs=True, retain_graph=True, create_graph=True)[0]\n",
    "    xx_lnorm.grad = xgrad\n",
    "    \n",
    "    optimizer.step()\n",
    "    scheduler.step()    \n",
    "    \n",
    "    if step%100 == 0:\n",
    "        print(f\"STEPS: {step}, norm_min: {xx_lnorm.data.min()}, norm_max: {xx_lnorm.data.max()}, min_value: {ymin.data.min()}\")"
   ]
  },
  {
   "cell_type": "code",
   "execution_count": null,
   "metadata": {},
   "outputs": [],
   "source": [
    "y_ = (xx_norm/xx_lnorm.data).cpu().reshape(X1.shape)\n",
    "\n",
    "LVLs = 30\n",
    "plt.figure(figsize=(6,6))\n",
    "plt.contourf(X1, X2, y_, levels=LVLs)\n",
    "cs = plt.contour(X1, X2, y_, levels=LVLs, linestyles=\"None\", colors=\"k\", linewidths=1)\n",
    "plt.clabel(cs, cs.levels, inline=True, fontsize=10, fmt=\"%1.2f\")\n",
    "plt.scatter(0, 0, s=30, edgecolors=\"red\")\n",
    "\n",
    "# plt.savefig(f\"./outputs/04.0_convex_distance/invex_contour_dist_l{level}.pdf\", bbox_inches='tight')"
   ]
  },
  {
   "cell_type": "code",
   "execution_count": null,
   "metadata": {},
   "outputs": [],
   "source": [
    "y_.shape"
   ]
  },
  {
   "cell_type": "code",
   "execution_count": null,
   "metadata": {},
   "outputs": [],
   "source": [
    "# contour_levels += [level]\n",
    "# contour_levels = list(set(contour_levels))"
   ]
  },
  {
   "cell_type": "markdown",
   "metadata": {},
   "source": [
    "## Plotting Triangle Inequality on Distance"
   ]
  },
  {
   "cell_type": "code",
   "execution_count": null,
   "metadata": {},
   "outputs": [],
   "source": [
    "a = torch.Tensor([0.54, -0.15])\n",
    "b = torch.Tensor([0.36, -0.41])"
   ]
  },
  {
   "cell_type": "code",
   "execution_count": null,
   "metadata": {},
   "outputs": [],
   "source": [
    "y_ = (xx_norm/xx_lnorm.data).cpu().reshape(X1.shape)\n",
    "\n",
    "LVLs = 30\n",
    "plt.figure(figsize=(6,6))\n",
    "plt.contourf(X1, X2, y_, levels=LVLs)\n",
    "cs = plt.contour(X1, X2, y_, levels=LVLs, linestyles=\"None\", colors=\"k\", linewidths=1)\n",
    "plt.clabel(cs, cs.levels, inline=True, fontsize=10, fmt=\"%1.2f\")\n",
    "\n",
    "plt.plot([b[0],a[0]], [b[1],a[1]], linestyle='solid', linewidth=2,\n",
    "              alpha=1.0, color=matplotlib.cm.tab10(8))\n",
    "plt.plot([0,b[0]], [0,b[1]], linestyle='solid', linewidth=2,\n",
    "              alpha=1.0, color=matplotlib.cm.tab10(2))\n",
    "plt.plot([0,a[0]], [0,a[1]], linestyle='solid', linewidth=2,\n",
    "              alpha=1.0, color=matplotlib.cm.tab10(1))\n",
    "\n",
    "diff = [a[0]-b[0], a[1]-b[1]]\n",
    "plt.plot([0,diff[0]], [0,diff[1]], linestyle='dotted', linewidth=2,\n",
    "              alpha=1.0, color=matplotlib.cm.tab10(8))\n",
    "\n",
    "\n",
    "plt.scatter(0, 0, s=30, edgecolors=\"w\", zorder=100)\n",
    "plt.scatter(a[0], a[1], s=30, edgecolors=\"w\", zorder=100)\n",
    "plt.scatter(b[0], b[1], s=30, edgecolors=\"w\", zorder=100)\n",
    "plt.scatter(diff[0], diff[1], s=20, edgecolors=\"w\",\n",
    "              alpha=1.0, facecolor=matplotlib.cm.tab10(8), zorder=100)\n",
    "\n",
    "\n",
    "plt.text(0.03, -0.04, 'x', fontsize=12, color='w')\n",
    "plt.text(a[0]+0.03, a[1]-0.04, 'z', fontsize=12, color='w')\n",
    "plt.text(b[0]+0.03, b[1]-0.04, 'y', fontsize=12, color='w')\n",
    "plt.text(diff[0]+0.03, diff[1]-0.04, 'z - y', fontsize=12, color='w')\n",
    "\n",
    "\n",
    "plt.savefig(f\"./outputs/11_metric_properties/invex_contour_prop.pdf\", bbox_inches='tight')"
   ]
  },
  {
   "cell_type": "code",
   "execution_count": null,
   "metadata": {},
   "outputs": [],
   "source": [
    "! mkdir outputs/11_metric_properties"
   ]
  },
  {
   "cell_type": "markdown",
   "metadata": {},
   "source": [
    "## Show triangle inequality on convex"
   ]
  },
  {
   "cell_type": "markdown",
   "metadata": {},
   "source": [
    "# Convex NN"
   ]
  },
  {
   "cell_type": "code",
   "execution_count": null,
   "metadata": {},
   "outputs": [],
   "source": [
    "# actf = nn.LeakyReLU\n",
    "actf = nn.ELU\n",
    "cvxNet = ConvexNN([2, 10, 10, 1], actf)\n",
    "\n",
    "optimizer = torch.optim.Adam(cvxNet.parameters(), lr=learning_rate)"
   ]
  },
  {
   "cell_type": "code",
   "execution_count": null,
   "metadata": {},
   "outputs": [],
   "source": [
    "%matplotlib inline\n",
    "fig = plt.figure(figsize=(15,6))\n",
    "ax = fig.add_subplot(121, projection='3d')\n",
    "ax2 = fig.add_subplot(122)\n",
    "\n",
    "for epoch in range(EPOCHS*2):\n",
    "\n",
    "    yout = -cvxNet(xx)    \n",
    "    loss = criterion(yout, yy)\n",
    "    optimizer.zero_grad()\n",
    "    loss.backward()\n",
    "    optimizer.step()\n",
    "\n",
    "    if epoch%100 == 0 or epoch==EPOCHS-1:\n",
    "        print(f'Epoch: {epoch}, Loss:{float(loss)}')\n",
    "        ax.clear()\n",
    "        ax.scatter(X1, X2, yy.data.numpy().reshape(Y.shape), marker= '.')\n",
    "        ax.scatter(X1, X2, yout.data.numpy().reshape(Y.shape), color='r', marker='.')\n",
    "        ax2.clear()\n",
    "        ax2.contourf(X1, X2, yout.data.numpy().reshape(Y.shape), levels=20)\n",
    "\n",
    "        fig.canvas.draw()\n",
    "        plt.pause(0.01)\n",
    "plt.close()"
   ]
  },
  {
   "cell_type": "code",
   "execution_count": null,
   "metadata": {},
   "outputs": [],
   "source": [
    "%matplotlib inline\n",
    "\n",
    "y_ = yout.data.cpu().numpy().reshape(Y.shape)\n",
    "\n",
    "fig = plt.figure(figsize=(8,6))\n",
    "ax = fig.add_subplot(projection = '3d')\n",
    "ax.view_init(49, -71)\n",
    "ax.plot_surface(X1, X2, y_, cmap='plasma', alpha=0.9)\n",
    "ax.set_xlabel('X1')\n",
    "ax.set_ylabel('X2')\n",
    "ax.set_zlabel('Y')\n",
    "# plt.pause(0.1)\n",
    "plt.show()"
   ]
  },
  {
   "cell_type": "markdown",
   "metadata": {},
   "source": [
    "## Plotting Contour Plot"
   ]
  },
  {
   "cell_type": "code",
   "execution_count": null,
   "metadata": {},
   "outputs": [],
   "source": [
    "# LVLs = np.linspace(sim.min(), sim.max(), 20)\n",
    "LVLs = 20\n",
    "\n",
    "y_ = cvxNet(xx).data.cpu().numpy().reshape(Y.shape)\n",
    "\n",
    "plt.figure(figsize=(8,8))\n",
    "plt.contourf(X1, X2, y_, levels=LVLs)\n",
    "cs = plt.contour(X1, X2, y_, levels=LVLs, linestyles=\"None\", colors=\"k\", linewidths=1)\n",
    "plt.clabel(cs, cs.levels, inline=True, fontsize=10, fmt=\"%1.2f\")\n",
    "minima = xx[y_.argmin()]\n",
    "plt.scatter(*minima.tolist(), s=100, edgecolors=\"red\")"
   ]
  },
  {
   "cell_type": "code",
   "execution_count": null,
   "metadata": {},
   "outputs": [],
   "source": [
    "min_val = y_.min()\n",
    "min_val"
   ]
  },
  {
   "cell_type": "code",
   "execution_count": null,
   "metadata": {},
   "outputs": [],
   "source": [
    "minima = xx[None, y_.argmin()]\n",
    "minima"
   ]
  },
  {
   "cell_type": "code",
   "execution_count": null,
   "metadata": {},
   "outputs": [],
   "source": [
    "# minima[0, 0] = minima[0, 0] + 0.25\n",
    "# minima[0, 1] = minima[0, 1] - 0.1"
   ]
  },
  {
   "cell_type": "markdown",
   "metadata": {},
   "source": [
    "## Finding Mimima by using gradient descent"
   ]
  },
  {
   "cell_type": "code",
   "execution_count": null,
   "metadata": {},
   "outputs": [],
   "source": [
    "xmin = minima.clone()\n",
    "xmin = torch.autograd.Variable(xmin, requires_grad=True)\n",
    "xmin"
   ]
  },
  {
   "cell_type": "code",
   "execution_count": null,
   "metadata": {},
   "outputs": [],
   "source": [
    "optim = torch.optim.Adam([xmin], lr=0.001)\n",
    "STEPS = 4000\n",
    "scheduler = torch.optim.lr_scheduler.CosineAnnealingLR(optim, T_max=STEPS)"
   ]
  },
  {
   "cell_type": "code",
   "execution_count": null,
   "metadata": {},
   "outputs": [],
   "source": [
    "cvxNet.eval()"
   ]
  },
  {
   "cell_type": "markdown",
   "metadata": {},
   "source": [
    "### Search Loop"
   ]
  },
  {
   "cell_type": "code",
   "execution_count": null,
   "metadata": {},
   "outputs": [],
   "source": [
    "for step in range(STEPS):\n",
    "    optimizer.zero_grad() \n",
    "\n",
    "    ymin = cvxNet(xmin)\n",
    "    xgrad = torch.autograd.grad(outputs=ymin, inputs=xmin, grad_outputs=torch.ones_like(ymin), \n",
    "                            only_inputs=True, retain_graph=True, create_graph=True)[0]\n",
    "    xmin.grad = xgrad\n",
    "    \n",
    "    optim.step()\n",
    "    scheduler.step()\n",
    "    \n",
    "    if step%100 == 0:\n",
    "        print(f\"STEPS: {step}, xmin: {xmin.data}, min_value: {ymin.data}\")"
   ]
  },
  {
   "cell_type": "code",
   "execution_count": null,
   "metadata": {},
   "outputs": [],
   "source": [
    "xgrad"
   ]
  },
  {
   "cell_type": "code",
   "execution_count": null,
   "metadata": {},
   "outputs": [],
   "source": [
    "# LVLs = np.linspace(sim.min(), sim.max(), 20)\n",
    "LVLs = 20\n",
    "\n",
    "y_ = cvxNet(xx).data.cpu().numpy().reshape(Y.shape)\n",
    "\n",
    "plt.figure(figsize=(8,8))\n",
    "plt.contourf(X1, X2, y_, levels=LVLs)\n",
    "cs = plt.contour(X1, X2, y_, levels=LVLs, linestyles=\"None\", colors=\"k\", linewidths=1)\n",
    "plt.clabel(cs, cs.levels, inline=True, fontsize=10, fmt=\"%1.2f\")\n",
    "minima = xx[y_.argmin()]\n",
    "plt.scatter(*minima.tolist(), s=100, edgecolors=\"red\")\n",
    "plt.scatter(*xmin.data[0].tolist(), s=100, edgecolors=\"white\")"
   ]
  },
  {
   "cell_type": "code",
   "execution_count": null,
   "metadata": {},
   "outputs": [],
   "source": [
    "minima = xmin.data\n",
    "min_val = cvxNet(xmin).data[0].item()\n",
    "minima, min_val"
   ]
  },
  {
   "cell_type": "markdown",
   "metadata": {},
   "source": [
    "## Zero-Level Invex Function for refrence"
   ]
  },
  {
   "cell_type": "code",
   "execution_count": null,
   "metadata": {},
   "outputs": [],
   "source": [
    "# y_ = cvxNet(xx + minima).data.cpu().numpy().reshape(Y.shape)- min_val\n",
    "y_ = cvxNet(xx).data.cpu().numpy().reshape(Y.shape) - min_val\n",
    "\n",
    "LVLs = 20\n",
    "plt.figure(figsize=(6,6))\n",
    "plt.contourf(X1, X2, y_, levels=LVLs)\n",
    "cs = plt.contour(X1, X2, y_, levels=LVLs, linestyles=\"None\", colors=\"k\", linewidths=1)\n",
    "plt.clabel(cs, cs.levels[:15], inline=True, fontsize=10, fmt=\"%1.2f\")\n",
    "plt.scatter(*minima[0].tolist(), s=100, edgecolors=\"red\")"
   ]
  },
  {
   "cell_type": "markdown",
   "metadata": {},
   "source": [
    "### Extracting the Exact Contour "
   ]
  },
  {
   "cell_type": "code",
   "execution_count": null,
   "metadata": {},
   "outputs": [],
   "source": [
    "cvxNet.eval()"
   ]
  },
  {
   "cell_type": "code",
   "execution_count": null,
   "metadata": {},
   "outputs": [],
   "source": [
    "# contour_levels = []"
   ]
  },
  {
   "cell_type": "code",
   "execution_count": null,
   "metadata": {},
   "outputs": [],
   "source": [
    "xx.shape"
   ]
  },
  {
   "cell_type": "code",
   "execution_count": null,
   "metadata": {},
   "outputs": [],
   "source": [
    "level = 0.20 # 0.65, 0.25\n",
    "xx_norm = torch.norm(xx, dim=1, keepdim=True)\n",
    "xx_ = xx/xx_norm * level"
   ]
  },
  {
   "cell_type": "code",
   "execution_count": null,
   "metadata": {},
   "outputs": [],
   "source": [
    "xx_lnorm = torch.ones_like(xx_norm)*0.5\n",
    "xx_lnorm = torch.autograd.Variable(xx_lnorm, requires_grad=True)\n",
    "xx_lnorm"
   ]
  },
  {
   "cell_type": "code",
   "execution_count": null,
   "metadata": {},
   "outputs": [],
   "source": [
    "optimizer = torch.optim.Adam([xx_lnorm], lr=0.03)\n",
    "STEPS = 4000\n",
    "scheduler = torch.optim.lr_scheduler.CosineAnnealingLR(optimizer, T_max=STEPS)"
   ]
  },
  {
   "cell_type": "code",
   "execution_count": null,
   "metadata": {},
   "outputs": [],
   "source": [
    "minima"
   ]
  },
  {
   "cell_type": "markdown",
   "metadata": {},
   "source": [
    "### Training Loop"
   ]
  },
  {
   "cell_type": "code",
   "execution_count": null,
   "metadata": {},
   "outputs": [],
   "source": [
    "for step in range(STEPS):\n",
    "    optimizer.zero_grad() \n",
    "\n",
    "    yy_ = torch.abs(cvxNet(xx_*xx_lnorm + minima) - min_val - level)\n",
    "    xgrad = torch.autograd.grad(outputs=yy_, inputs=xx_lnorm, grad_outputs=torch.ones_like(yy_), \n",
    "                            only_inputs=True, retain_graph=True, create_graph=True)[0]\n",
    "    xx_lnorm.grad = xgrad\n",
    "    \n",
    "    optimizer.step()\n",
    "    scheduler.step()    \n",
    "    \n",
    "    if step%100 == 0:\n",
    "        print(f\"STEPS: {step}, norm_min: {xx_lnorm.data.min()}, norm_max: {xx_lnorm.data.max()}, min_value: {ymin.data.min()}\")"
   ]
  },
  {
   "cell_type": "code",
   "execution_count": null,
   "metadata": {},
   "outputs": [],
   "source": [
    "y_ = (xx_norm/xx_lnorm.data).cpu().reshape(X1.shape)\n",
    "\n",
    "LVLs = 30\n",
    "plt.figure(figsize=(6,6))\n",
    "plt.contourf(X1, X2, y_, levels=LVLs)\n",
    "cs = plt.contour(X1, X2, y_, levels=LVLs, linestyles=\"None\", colors=\"k\", linewidths=1)\n",
    "plt.clabel(cs, cs.levels, inline=True, fontsize=10, fmt=\"%1.2f\")\n",
    "plt.scatter(0, 0, s=30, edgecolors=\"red\")\n",
    "\n",
    "# plt.savefig(f\"./outputs/04.0_convex_distance/invex_contour_dist_l{level}.pdf\", bbox_inches='tight')"
   ]
  },
  {
   "cell_type": "code",
   "execution_count": null,
   "metadata": {},
   "outputs": [],
   "source": [
    "y_.shape"
   ]
  },
  {
   "cell_type": "code",
   "execution_count": null,
   "metadata": {},
   "outputs": [],
   "source": [
    "# contour_levels += [level]\n",
    "# contour_levels = list(set(contour_levels))"
   ]
  },
  {
   "cell_type": "markdown",
   "metadata": {},
   "source": [
    "## Plotting Triangle Inequality on Distance"
   ]
  },
  {
   "cell_type": "code",
   "execution_count": null,
   "metadata": {},
   "outputs": [],
   "source": [
    "a = torch.Tensor([0.3, 0.6])\n",
    "b = torch.Tensor([0.2, -0.1])\n",
    "# b = torch.Tensor([0.1, 0.2])"
   ]
  },
  {
   "cell_type": "code",
   "execution_count": null,
   "metadata": {},
   "outputs": [],
   "source": [
    "y_ = (xx_norm/xx_lnorm.data).cpu().reshape(X1.shape)\n",
    "\n",
    "LVLs = 30\n",
    "plt.figure(figsize=(6,6))\n",
    "plt.contourf(X1, X2, y_, levels=LVLs)\n",
    "cs = plt.contour(X1, X2, y_, levels=LVLs, linestyles=\"None\", colors=\"k\", linewidths=1)\n",
    "plt.clabel(cs, cs.levels, inline=True, fontsize=10, fmt=\"%1.2f\")\n",
    "\n",
    "plt.plot([b[0],a[0]], [b[1],a[1]], linestyle='solid', linewidth=2,\n",
    "              alpha=1.0, color=matplotlib.cm.tab10(8))\n",
    "plt.plot([0,b[0]], [0,b[1]], linestyle='solid', linewidth=2,\n",
    "              alpha=1.0, color=matplotlib.cm.tab10(2))\n",
    "plt.plot([0,a[0]], [0,a[1]], linestyle='solid', linewidth=2,\n",
    "              alpha=1.0, color=matplotlib.cm.tab10(1))\n",
    "\n",
    "diff = [a[0]-b[0], a[1]-b[1]]\n",
    "plt.plot([0,diff[0]], [0,diff[1]], linestyle='dotted', linewidth=2,\n",
    "              alpha=1.0, color=matplotlib.cm.tab10(8))\n",
    "\n",
    "\n",
    "plt.scatter(0, 0, s=30, edgecolors=\"w\", zorder=100)\n",
    "plt.scatter(a[0], a[1], s=30, edgecolors=\"w\", zorder=100)\n",
    "plt.scatter(b[0], b[1], s=30, edgecolors=\"w\", zorder=100)\n",
    "plt.scatter(diff[0], diff[1], s=20, edgecolors=\"w\",\n",
    "              alpha=1.0, facecolor=matplotlib.cm.tab10(8))\n",
    "\n",
    "\n",
    "plt.text(0.03, -0.04, 'x', fontsize=12, color='w')\n",
    "plt.text(a[0]+0.03, a[1]-0.04, 'z', fontsize=12, color='w')\n",
    "plt.text(b[0]+0.03, b[1]-0.04, 'y', fontsize=12, color='w')\n",
    "plt.text(diff[0]+0.03, diff[1]-0.04, 'z - y', fontsize=12, color='w')\n",
    "\n",
    "plt.savefig(f\"./outputs/11_metric_properties/convex_contour_prop.pdf\", bbox_inches='tight')"
   ]
  },
  {
   "cell_type": "code",
   "execution_count": null,
   "metadata": {},
   "outputs": [],
   "source": []
  },
  {
   "cell_type": "code",
   "execution_count": null,
   "metadata": {},
   "outputs": [],
   "source": []
  },
  {
   "cell_type": "markdown",
   "metadata": {},
   "source": [
    "# Show triangle inequality on non-linear radial distance"
   ]
  },
  {
   "cell_type": "code",
   "execution_count": null,
   "metadata": {},
   "outputs": [],
   "source": [
    "class Distance(nn.Module):\n",
    "    def __init__(self, input_dim, inv_temp=1):\n",
    "        super().__init__()\n",
    "        self.centers = nn.Parameter(torch.rand(1, input_dim)*2-1)\n",
    "        \n",
    "    def forward(self, x):\n",
    "        x = torch.norm(x-self.centers, dim=-1, keepdim=True)\n",
    "        return x"
   ]
  },
  {
   "cell_type": "code",
   "execution_count": null,
   "metadata": {},
   "outputs": [],
   "source": [
    "distNet = Distance(2)\n",
    "distNet.centers.data *= 0."
   ]
  },
  {
   "cell_type": "code",
   "execution_count": null,
   "metadata": {},
   "outputs": [],
   "source": [
    "%matplotlib inline\n",
    "\n",
    "yout = distNet(xx)\n",
    "y_ = yout.data.cpu().numpy().reshape(Y.shape)\n",
    "\n",
    "fig = plt.figure(figsize=(8,6))\n",
    "ax = fig.add_subplot(projection = '3d')\n",
    "ax.view_init(49, -71)\n",
    "ax.plot_surface(X1, X2, y_, cmap='plasma', alpha=0.9)\n",
    "ax.set_xlabel('X1')\n",
    "ax.set_ylabel('X2')\n",
    "ax.set_zlabel('Y')\n",
    "# plt.pause(0.1)\n",
    "plt.show()"
   ]
  },
  {
   "cell_type": "markdown",
   "metadata": {},
   "source": [
    "## Plotting Contour Plot"
   ]
  },
  {
   "cell_type": "code",
   "execution_count": null,
   "metadata": {},
   "outputs": [],
   "source": [
    "def scale_above(y, scale=5, above=0.6):\n",
    "    return torch.maximum(y, scale*(y-above)+above)"
   ]
  },
  {
   "cell_type": "code",
   "execution_count": null,
   "metadata": {},
   "outputs": [],
   "source": [
    "# LVLs = np.linspace(sim.min(), sim.max(), 20)\n",
    "LVLs = 20\n",
    "\n",
    "y_ = scale_above(distNet(xx), 3, 0.77).data.cpu().numpy().reshape(Y.shape)\n",
    "\n",
    "plt.figure(figsize=(8,8))\n",
    "plt.contourf(X1, X2, y_, levels=LVLs)\n",
    "cs = plt.contour(X1, X2, y_, levels=LVLs, linestyles=\"None\", colors=\"k\", linewidths=1)\n",
    "plt.clabel(cs, cs.levels, inline=True, fontsize=10, fmt=\"%1.2f\")"
   ]
  },
  {
   "cell_type": "code",
   "execution_count": null,
   "metadata": {},
   "outputs": [],
   "source": [
    "min_val = y_.min()*0\n",
    "min_val"
   ]
  },
  {
   "cell_type": "code",
   "execution_count": null,
   "metadata": {},
   "outputs": [],
   "source": [
    "minima = xx[None, y_.argmin()]*0\n",
    "minima"
   ]
  },
  {
   "cell_type": "markdown",
   "metadata": {},
   "source": [
    "## Plotting Triangle Inequality on Distance"
   ]
  },
  {
   "cell_type": "code",
   "execution_count": null,
   "metadata": {},
   "outputs": [],
   "source": [
    "a = torch.Tensor([0.593, -0.593])\n",
    "b = torch.Tensor([0.0, -0.5])"
   ]
  },
  {
   "cell_type": "code",
   "execution_count": null,
   "metadata": {},
   "outputs": [],
   "source": [
    "y_ = scale_above(distNet(xx), 3, 0.66).data.cpu().numpy().reshape(X1.shape)\n",
    "\n",
    "LVLs = 30\n",
    "plt.figure(figsize=(6,6))\n",
    "plt.contourf(X1, X2, y_, levels=LVLs)\n",
    "cs = plt.contour(X1, X2, y_, levels=LVLs, linestyles=\"None\", colors=\"k\", linewidths=1)\n",
    "plt.clabel(cs, cs.levels[:-15], inline=True, fontsize=10, fmt=\"%1.2f\")\n",
    "\n",
    "plt.plot([b[0],a[0]], [b[1],a[1]], linestyle='solid', linewidth=2,\n",
    "              alpha=1.0, color=matplotlib.cm.tab10(8))\n",
    "plt.plot([0,b[0]], [0,b[1]], linestyle='solid', linewidth=2,\n",
    "              alpha=1.0, color=matplotlib.cm.tab10(2))\n",
    "plt.plot([0,a[0]], [0,a[1]], linestyle='solid', linewidth=2,\n",
    "              alpha=1.0, color=matplotlib.cm.tab10(1))\n",
    "\n",
    "diff = [a[0]-b[0], a[1]-b[1]]\n",
    "plt.plot([0,diff[0]], [0,diff[1]], linestyle='dotted', linewidth=2,\n",
    "              alpha=1.0, color=matplotlib.cm.tab10(8))\n",
    "\n",
    "\n",
    "plt.scatter(0, 0, s=30, edgecolors=\"w\", zorder=100)\n",
    "plt.scatter(a[0], a[1], s=30, edgecolors=\"w\", zorder=100)\n",
    "plt.scatter(b[0], b[1], s=30, edgecolors=\"w\", zorder=100)\n",
    "plt.scatter(diff[0], diff[1], s=20, edgecolors=\"w\",\n",
    "              alpha=1.0, facecolor=matplotlib.cm.tab10(8))\n",
    "\n",
    "\n",
    "plt.text(0.03, -0.04, 'x', fontsize=12, color='w')\n",
    "plt.text(a[0]+0.03, a[1]-0.04, 'z', fontsize=12, color='w')\n",
    "plt.text(b[0]+0.03, b[1]-0.04, 'y', fontsize=12, color='w')\n",
    "plt.text(diff[0]+0.03, diff[1]-0.04, 'z - y', fontsize=12, color='w')\n",
    "\n",
    "plt.savefig(f\"./outputs/04.3_metric_properties/l2_nonlinear_contour_prop.pdf\", bbox_inches='tight')"
   ]
  },
  {
   "cell_type": "code",
   "execution_count": null,
   "metadata": {},
   "outputs": [],
   "source": []
  }
 ],
 "metadata": {
  "kernelspec": {
   "display_name": "Python 3 (ipykernel)",
   "language": "python",
   "name": "python3"
  },
  "language_info": {
   "codemirror_mode": {
    "name": "ipython",
    "version": 3
   },
   "file_extension": ".py",
   "mimetype": "text/x-python",
   "name": "python",
   "nbconvert_exporter": "python",
   "pygments_lexer": "ipython3",
   "version": "3.11.9"
  }
 },
 "nbformat": 4,
 "nbformat_minor": 4
}
