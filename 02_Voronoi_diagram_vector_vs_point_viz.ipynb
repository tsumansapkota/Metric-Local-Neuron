{
 "cells": [
  {
   "cell_type": "code",
   "execution_count": null,
   "metadata": {},
   "outputs": [],
   "source": [
    "import numpy as np\n",
    "import torch\n",
    "import torch.nn as nn\n",
    "import torch.nn.functional as F"
   ]
  },
  {
   "cell_type": "code",
   "execution_count": null,
   "metadata": {},
   "outputs": [],
   "source": [
    "import matplotlib\n",
    "# matplotlib.use(\"TkAgg\")\n",
    "# %matplotlib tk\n",
    "%matplotlib inline\n",
    "import matplotlib.pyplot as plt"
   ]
  },
  {
   "cell_type": "code",
   "execution_count": null,
   "metadata": {},
   "outputs": [],
   "source": [
    "import dtnnlib as dtnn"
   ]
  },
  {
   "cell_type": "code",
   "execution_count": null,
   "metadata": {},
   "outputs": [],
   "source": [
    "# device = torch.device(\"cuda:0\")\n",
    "device = torch.device(\"cpu\")"
   ]
  },
  {
   "cell_type": "code",
   "execution_count": null,
   "metadata": {},
   "outputs": [],
   "source": [
    "num_points = 1000\n",
    "X1 = np.linspace(-1.5, 1.5, num_points)\n",
    "X2 = np.linspace(-1.5, 1.5, num_points)\n",
    "X1, X2 = np.meshgrid(X1, X2)\n",
    "\n",
    "XX = torch.Tensor(np.c_[X1.reshape(-1), X2.reshape(-1)]).to(device)"
   ]
  },
  {
   "cell_type": "code",
   "execution_count": null,
   "metadata": {},
   "outputs": [],
   "source": [
    "torch.manual_seed(741) # 147"
   ]
  },
  {
   "cell_type": "markdown",
   "metadata": {},
   "source": [
    "## Distance Voronoi"
   ]
  },
  {
   "cell_type": "code",
   "execution_count": null,
   "metadata": {},
   "outputs": [],
   "source": [
    "class DistanceVoronoi(nn.Module):\n",
    "    \n",
    "    def __init__(self, h, bias=False):\n",
    "        super().__init__()\n",
    "        self.dt = dtnn.DistanceTransformBase(2, h)\n",
    "        self.dt.centers.data = torch.rand(self.dt.centers.shape)*2-1\n",
    "        self.bias = None\n",
    "        if bias:\n",
    "            self._init_bias_()\n",
    "        \n",
    "    def _init_bias_(self):\n",
    "        self.bias = torch.randn(self.dt.centers.shape[0])*0.2\n",
    "        \n",
    "    def forward(self, x):\n",
    "        dists = self.dt(x)\n",
    "        if self.bias is not None:\n",
    "            dists = dists + self.bias\n",
    "#         class_probs = torch.argmin(dists, dim=1)\n",
    "        return torch.argmin(dists, dim=1)\n",
    "\n",
    "    def set_centroid(self, index, value):\n",
    "        self.dt.centers[index] = torch.Tensor(value, dtype=self.dt.centers.dtype)\n",
    "        pass"
   ]
  },
  {
   "cell_type": "code",
   "execution_count": null,
   "metadata": {},
   "outputs": [],
   "source": [
    "out = DistanceVoronoi(10)(XX)\n",
    "torch.unique(out, return_counts=True)"
   ]
  },
  {
   "cell_type": "code",
   "execution_count": null,
   "metadata": {},
   "outputs": [],
   "source": [
    "out.shape"
   ]
  },
  {
   "cell_type": "code",
   "execution_count": null,
   "metadata": {},
   "outputs": [],
   "source": [
    "regions = 10\n",
    "voronoi = DistanceVoronoi(regions)\n",
    "cls = voronoi(XX)"
   ]
  },
  {
   "cell_type": "code",
   "execution_count": null,
   "metadata": {},
   "outputs": [],
   "source": [
    "!mkdir outputs/02_voronoi_diagrams/"
   ]
  },
  {
   "cell_type": "code",
   "execution_count": null,
   "metadata": {},
   "outputs": [],
   "source": [
    "plt.figure(figsize=(5, 5))\n",
    "\n",
    "cents = voronoi.dt.centers.data.cpu()\n",
    "cent_label = np.arange(0, regions, step=1)\n",
    "\n",
    "plt.scatter(*cents.t(), c=cent_label, s=100, cmap='tab10', ec='k')\n",
    "    \n",
    "# plt.gca().set_prop_cycle(None)\n",
    "plt.imshow(cls.data.cpu().numpy().reshape(X1.shape), interpolation='nearest',\n",
    "           extent=(-1.5, 1.5, -1.5, 1.5),\n",
    "           alpha=0.6, cmap='tab10',\n",
    "           aspect='auto', origin='lower')\n",
    "plt.savefig(\"./outputs/02_voronoi_diagrams/voronoi_distance_nobias.pdf\", bbox_inches='tight')"
   ]
  },
  {
   "cell_type": "code",
   "execution_count": null,
   "metadata": {},
   "outputs": [],
   "source": [
    "cls"
   ]
  },
  {
   "cell_type": "code",
   "execution_count": null,
   "metadata": {},
   "outputs": [],
   "source": [
    "voronoi.dt.centers"
   ]
  },
  {
   "cell_type": "markdown",
   "metadata": {},
   "source": [
    "#### With output scale/bias"
   ]
  },
  {
   "cell_type": "code",
   "execution_count": null,
   "metadata": {},
   "outputs": [],
   "source": [
    "regions = 10\n",
    "# voronoi = DistanceVoronoi(regions, bias=True)\n",
    "voronoi._init_bias_()\n",
    "cls = voronoi(XX)\n",
    "\n",
    "cents = voronoi.dt.centers.data.cpu()\n",
    "cent_label = np.arange(0, regions, step=1)\n",
    "\n",
    "plt.figure(figsize=(5, 5))\n",
    "plt.scatter(*cents.t(), c=cent_label, s=100, cmap='tab10', ec='k')\n",
    "# plt.gca().set_prop_cycle(None)\n",
    "plt.imshow(cls.data.cpu().numpy().reshape(X1.shape), interpolation='nearest',\n",
    "           extent=(-1.5, 1.5, -1.5, 1.5),\n",
    "           alpha=0.6, cmap='tab10',\n",
    "           aspect='auto', origin='lower')\n",
    "plt.savefig(\"./outputs/02_voronoi_diagrams/voronoi_distance_bias.pdf\", bbox_inches='tight')"
   ]
  },
  {
   "cell_type": "markdown",
   "metadata": {},
   "source": [
    "#### With weights shift"
   ]
  },
  {
   "cell_type": "code",
   "execution_count": null,
   "metadata": {},
   "outputs": [],
   "source": [
    "regions = 10\n",
    "voronoi.dt.centers.data -= 0.5\n",
    "cls = voronoi(XX)\n",
    "\n",
    "cents = voronoi.dt.centers.data.cpu()\n",
    "cent_label = np.arange(0, regions, step=1)\n",
    "\n",
    "plt.figure(figsize=(5, 5))\n",
    "plt.scatter(*cents.t(), c=cent_label, s=100, cmap='tab10', ec='k')\n",
    "# plt.gca().set_prop_cycle(None)\n",
    "plt.imshow(cls.data.cpu().numpy().reshape(X1.shape), interpolation='nearest',\n",
    "           extent=(-1.5, 1.5, -1.5, 1.5),\n",
    "           alpha=0.6, cmap='tab10',\n",
    "           aspect='auto', origin='lower')\n",
    "plt.savefig(\"./outputs/02_voronoi_diagrams/voronoi_distance_shift.pdf\", bbox_inches='tight')"
   ]
  },
  {
   "cell_type": "markdown",
   "metadata": {},
   "source": [
    "## Linear Voronoi"
   ]
  },
  {
   "cell_type": "code",
   "execution_count": null,
   "metadata": {},
   "outputs": [],
   "source": [
    "class LinearVoronoi(nn.Module):\n",
    "    \n",
    "    def __init__(self, h, bias=False):\n",
    "        super().__init__()\n",
    "        self.lin = nn.Linear(2, h, bias=False)\n",
    "        self.lin.weight.data = torch.rand(self.lin.weight.shape)*2-1\n",
    "        self.lin.weight.data /= torch.norm(self.lin.weight.data, dim=1, keepdim=True)\n",
    "        self.lin.weight.data *= 0.7+0.3*2*(torch.rand_like(self.lin.weight)-0.5)\n",
    "        self.bias = None\n",
    "        if bias:\n",
    "            self._init_bias_()\n",
    "        \n",
    "    def _init_bias_(self):\n",
    "        self.bias = torch.randn(self.lin.weight.shape[0])*0.2\n",
    "        \n",
    "    def forward(self, x):\n",
    "        dists = self.lin(x)\n",
    "        if self.bias is not None:\n",
    "            dists = dists + self.bias\n",
    "#         class_probs = torch.argmax(dists, dim=1)\n",
    "        return torch.argmax(dists, dim=1)\n",
    "\n",
    "    def set_centroid(self, index, value):\n",
    "        self.lin.weight[index] = torch.Tensor(value, dtype=self.lin.weight.dtype)\n",
    "        pass"
   ]
  },
  {
   "cell_type": "code",
   "execution_count": null,
   "metadata": {},
   "outputs": [],
   "source": [
    "regions = 10\n",
    "voronoi = LinearVoronoi(regions)\n",
    "cls = voronoi(XX)"
   ]
  },
  {
   "cell_type": "code",
   "execution_count": null,
   "metadata": {},
   "outputs": [],
   "source": [
    "torch.unique(cls, return_counts=True)"
   ]
  },
  {
   "cell_type": "code",
   "execution_count": null,
   "metadata": {},
   "outputs": [],
   "source": [
    "%matplotlib inline\n",
    "\n",
    "plt.figure(figsize=(5, 5))\n",
    "\n",
    "cls = voronoi(XX)\n",
    "cents = voronoi.lin.weight.data.cpu()\n",
    "cent_label = np.arange(0, regions, step=1)\n",
    "\n",
    "# plt.scatter(*cents.t(), c=cent_label, s=100, cmap='tab10', ec='k')\n",
    "for i, cent in enumerate(cents):\n",
    "#     print(i)\n",
    "    c = matplotlib.cm.tab10(i)\n",
    "    plt.scatter(cent[0], cent[1], facecolor=c, s=50, cmap='tab10', ec='k')\n",
    "    plt.arrow(0, 0, cent[0], cent[1], \n",
    "              head_width=0.05, head_length=0.04, linestyle='solid', linewidth=3,\n",
    "              alpha=0.8, fc=\"k\", ec=c)\n",
    "    \n",
    "plt.gca().set_prop_cycle(None)\n",
    "plt.imshow(cls.data.cpu().numpy().reshape(X1.shape), interpolation='nearest',\n",
    "           extent=(-1.5, 1.5, -1.5, 1.5),\n",
    "           alpha=0.6, cmap='tab10',\n",
    "           aspect='auto', origin='lower')\n",
    "plt.savefig(\"./outputs/02_voronoi_diagrams/voronoi_linear_nobias.pdf\", bbox_inches='tight')"
   ]
  },
  {
   "cell_type": "code",
   "execution_count": null,
   "metadata": {},
   "outputs": [],
   "source": [
    "voronoi.lin.weight.data"
   ]
  },
  {
   "cell_type": "markdown",
   "metadata": {},
   "source": [
    "#### With output scale/bias"
   ]
  },
  {
   "cell_type": "code",
   "execution_count": null,
   "metadata": {},
   "outputs": [],
   "source": [
    "regions = 10\n",
    "voronoi._init_bias_()\n",
    "cls = voronoi(XX)\n",
    "\n",
    "cents = voronoi.lin.weight.data.cpu()\n",
    "cent_label = np.arange(0, regions, step=1)\n",
    "\n",
    "plt.figure(figsize=(5, 5))\n",
    "for i, cent in enumerate(cents):\n",
    "    c = matplotlib.cm.tab10(i)\n",
    "    plt.scatter(cent[0], cent[1], facecolor=c, s=50, cmap='tab10', ec='k')\n",
    "    plt.arrow(0, 0, cent[0], cent[1], \n",
    "              head_width=0.05, head_length=0.04, linestyle='solid', linewidth=3,\n",
    "              alpha=0.8, fc=\"k\", ec=c)\n",
    "    \n",
    "plt.gca().set_prop_cycle(None)\n",
    "plt.imshow(cls.data.cpu().numpy().reshape(X1.shape), interpolation='nearest',\n",
    "           extent=(-1.5, 1.5, -1.5, 1.5),\n",
    "           alpha=0.6, cmap='tab10',\n",
    "           aspect='auto', origin='lower')\n",
    "plt.savefig(\"./outputs/02_voronoi_diagrams/voronoi_linear_bias.pdf\", bbox_inches='tight')"
   ]
  },
  {
   "cell_type": "markdown",
   "metadata": {},
   "source": [
    "#### With weights shift"
   ]
  },
  {
   "cell_type": "code",
   "execution_count": null,
   "metadata": {},
   "outputs": [],
   "source": [
    "voronoi.lin.weight.data -= 0.5"
   ]
  },
  {
   "cell_type": "code",
   "execution_count": null,
   "metadata": {},
   "outputs": [],
   "source": [
    "plt.figure(figsize=(5, 5))\n",
    "\n",
    "cls = voronoi(XX)\n",
    "cents = voronoi.lin.weight.data.cpu()\n",
    "cent_label = np.arange(0, regions, step=1)\n",
    "\n",
    "for i, cent in enumerate(cents):\n",
    "    c = matplotlib.cm.tab10(i)\n",
    "    plt.scatter(cent[0], cent[1], facecolor=c, s=50, cmap='tab10', ec='k')\n",
    "    plt.arrow(0, 0, cent[0], cent[1], \n",
    "              head_width=0.05, head_length=0.04, linestyle='solid', linewidth=3,\n",
    "              alpha=0.8, fc=\"k\", ec=c)\n",
    "    \n",
    "plt.gca().set_prop_cycle(None)\n",
    "plt.imshow(cls.data.cpu().numpy().reshape(X1.shape), interpolation='nearest',\n",
    "           extent=(-1.5, 1.5, -1.5, 1.5),\n",
    "           alpha=0.6, cmap='tab10',\n",
    "           aspect='auto', origin='lower')\n",
    "plt.savefig(\"./outputs/02_voronoi_diagrams/voronoi_linear_shift.pdf\", bbox_inches='tight')"
   ]
  },
  {
   "cell_type": "code",
   "execution_count": null,
   "metadata": {},
   "outputs": [],
   "source": []
  }
 ],
 "metadata": {
  "kernelspec": {
   "display_name": "Python 3 (ipykernel)",
   "language": "python",
   "name": "python3"
  },
  "language_info": {
   "codemirror_mode": {
    "name": "ipython",
    "version": 3
   },
   "file_extension": ".py",
   "mimetype": "text/x-python",
   "name": "python",
   "nbconvert_exporter": "python",
   "pygments_lexer": "ipython3",
   "version": "3.11.9"
  }
 },
 "nbformat": 4,
 "nbformat_minor": 4
}
